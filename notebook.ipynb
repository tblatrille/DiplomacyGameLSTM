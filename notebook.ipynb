{
 "cells": [
  {
   "cell_type": "code",
   "metadata": {
    "tags": [],
    "cell_id": "00000-b04e3168-bde0-4d3f-a1d3-125c2aeb0b87",
    "deepnote_to_be_reexecuted": false,
    "source_hash": "1541689f",
    "execution_start": 1623081127995,
    "execution_millis": 20624,
    "deepnote_cell_type": "code"
   },
   "source": "import json\nimport urllib\nimport pandas as pd\nimport io\nimport math\nimport re\nimport nltk\nfrom nltk.corpus import stopwords\nfrom nltk.stem import WordNetLemmatizer\nfrom nltk.tokenize.treebank import TreebankWordDetokenizer\n\nfrom matplotlib import pyplot as plt\nfrom keras.preprocessing.text import Tokenizer\nfrom keras.preprocessing.sequence import pad_sequences\nfrom keras import Sequential\nfrom keras.layers import Embedding, SpatialDropout1D, LSTM, Dense\nfrom collections import Counter, defaultdict\nimport spacy\n",
   "outputs": [],
   "execution_count": null
  },
  {
   "cell_type": "code",
   "metadata": {
    "tags": [],
    "cell_id": "00001-95435169-8af8-42ed-a921-d481a3226f05",
    "deepnote_to_be_reexecuted": false,
    "source_hash": "d6a6a248",
    "execution_start": 1623081148640,
    "execution_millis": 20,
    "deepnote_cell_type": "code"
   },
   "source": "train_link = \"https://raw.githubusercontent.com/DenisPeskov/2020_acl_diplomacy/master/data/train.jsonl\"\ntest_link = \"https://raw.githubusercontent.com/DenisPeskov/2020_acl_diplomacy/master/data/test.jsonl\"\nvalidation_link = \"https://raw.githubusercontent.com/DenisPeskov/2020_acl_diplomacy/master/data/validation.jsonl\"\n\nlinks_names_dict = {\"train\": train_link , \"test\": test_link, \"validation\": validation_link}\n\ndef pull_and_dump_to_csv(link, name):\n    '''\n    Pull .jsonl from GitHub and dump it into a .csv\n    '''\n    \n    with urllib.request.urlopen(link) as f:\n        df_final = pd.DataFrame(json.loads(line) for line in f)\n        df_final['new_index'] = df_final['game_id'].astype(str) + \"_\" + df_final.index.astype(str)\n        df_final = df_final.set_index('new_index').apply(lambda x: x.apply(pd.Series).stack()).reset_index().drop('level_1', 1)\n        df_final[['game','index']] = df_final.new_index.apply(lambda x: pd.Series(str(x).split(\"_\")))\n        df_final = df_final.reset_index()\n        df_final = df_final.drop(columns=['game_id', 'players', 'new_index', 'index', 'level_0'])\n        df_final = df_final.sort_values(by=['absolute_message_index'])\n        df_final = df_final.dropna(how='any')\n        df_final.to_csv(f'{name}.csv', index=False)\n\n#for name, link in links_names_dict.items():\n    #pull_and_dump_to_csv(link, name)\n    #print(name)",
   "outputs": [],
   "execution_count": null
  },
  {
   "cell_type": "code",
   "metadata": {
    "tags": [],
    "cell_id": "00001-164429f3-2ed5-436a-8f62-96135f75054e",
    "deepnote_to_be_reexecuted": false,
    "source_hash": "de8fdcd2",
    "execution_start": 1623081148678,
    "execution_millis": 189,
    "deepnote_cell_type": "code"
   },
   "source": "df_train = pd.read_csv('train.csv')",
   "outputs": [],
   "execution_count": null
  },
  {
   "cell_type": "code",
   "metadata": {
    "tags": [],
    "cell_id": "00002-3cbad20e-24fb-4154-81f5-6d1452d5fce7",
    "deepnote_to_be_reexecuted": false,
    "source_hash": "10f9005d",
    "execution_start": 1623081148877,
    "execution_millis": 51,
    "deepnote_cell_type": "code"
   },
   "source": "df_test = pd.read_csv('test.csv')",
   "outputs": [],
   "execution_count": null
  },
  {
   "cell_type": "code",
   "metadata": {
    "tags": [],
    "cell_id": "00003-8bc351ad-e28a-4ab1-9fbd-7b33a6773f83",
    "deepnote_to_be_reexecuted": false,
    "source_hash": "83ad01f3",
    "execution_start": 1623081148941,
    "execution_millis": 42,
    "deepnote_cell_type": "code"
   },
   "source": "df_val = pd.read_csv('validation.csv')",
   "outputs": [],
   "execution_count": null
  },
  {
   "cell_type": "code",
   "metadata": {
    "tags": [],
    "cell_id": "00005-5ab6741d-a56f-435c-a4a7-77d82057d9d9",
    "deepnote_to_be_reexecuted": true,
    "source_hash": "14aee056",
    "execution_start": 1623081148994,
    "execution_millis": 248,
    "deepnote_cell_type": "code"
   },
   "source": "df_train.head(15)",
   "outputs": [
    {
     "output_type": "execute_result",
     "execution_count": 6,
     "data": {
      "application/vnd.deepnote.dataframe.v2+json": {
       "row_count": 10,
       "column_count": 12,
       "columns": [
        {
         "name": "messages",
         "dtype": "object",
         "stats": {
          "unique_count": 10,
          "nan_count": 0,
          "categories": [
           {
            "name": "Hello there! What's your general plan for this game? My inclination when I play Austria is to piss off as few people as possible, so I don't plan on making any overtly aggressive moves this turn.",
            "count": 1
           },
           {
            "name": "Hello France, world you like to discuss working together?",
            "count": 1
           },
           {
            "name": "8 others",
            "count": 8
           }
          ]
         }
        },
        {
         "name": "sender_labels",
         "dtype": "bool",
         "stats": {
          "unique_count": 2,
          "nan_count": 0,
          "categories": [
           {
            "name": "True",
            "count": 9
           },
           {
            "name": "False",
            "count": 1
           }
          ]
         }
        },
        {
         "name": "receiver_labels",
         "dtype": "object",
         "stats": {
          "unique_count": 1,
          "nan_count": 0,
          "categories": [
           {
            "name": "True",
            "count": 10
           }
          ]
         }
        },
        {
         "name": "speakers",
         "dtype": "object",
         "stats": {
          "unique_count": 4,
          "nan_count": 0,
          "categories": [
           {
            "name": "austria",
            "count": 3
           },
           {
            "name": "russia",
            "count": 3
           },
           {
            "name": "2 others",
            "count": 4
           }
          ]
         }
        },
        {
         "name": "receivers",
         "dtype": "object",
         "stats": {
          "unique_count": 7,
          "nan_count": 0,
          "categories": [
           {
            "name": "turkey",
            "count": 3
           },
           {
            "name": "russia",
            "count": 2
           },
           {
            "name": "5 others",
            "count": 5
           }
          ]
         }
        },
        {
         "name": "absolute_message_index",
         "dtype": "float64",
         "stats": {
          "unique_count": 2,
          "nan_count": 0,
          "min": "0.0",
          "max": "1.0",
          "histogram": [
           {
            "bin_start": 0,
            "bin_end": 0.1,
            "count": 9
           },
           {
            "bin_start": 0.1,
            "bin_end": 0.2,
            "count": 0
           },
           {
            "bin_start": 0.2,
            "bin_end": 0.30000000000000004,
            "count": 0
           },
           {
            "bin_start": 0.30000000000000004,
            "bin_end": 0.4,
            "count": 0
           },
           {
            "bin_start": 0.4,
            "bin_end": 0.5,
            "count": 0
           },
           {
            "bin_start": 0.5,
            "bin_end": 0.6000000000000001,
            "count": 0
           },
           {
            "bin_start": 0.6000000000000001,
            "bin_end": 0.7000000000000001,
            "count": 0
           },
           {
            "bin_start": 0.7000000000000001,
            "bin_end": 0.8,
            "count": 0
           },
           {
            "bin_start": 0.8,
            "bin_end": 0.9,
            "count": 0
           },
           {
            "bin_start": 0.9,
            "bin_end": 1,
            "count": 1
           }
          ]
         }
        },
        {
         "name": "relative_message_index",
         "dtype": "float64",
         "stats": {
          "unique_count": 1,
          "nan_count": 0,
          "min": "0.0",
          "max": "0.0",
          "histogram": [
           {
            "bin_start": -0.5,
            "bin_end": -0.4,
            "count": 0
           },
           {
            "bin_start": -0.4,
            "bin_end": -0.3,
            "count": 0
           },
           {
            "bin_start": -0.3,
            "bin_end": -0.19999999999999996,
            "count": 0
           },
           {
            "bin_start": -0.19999999999999996,
            "bin_end": -0.09999999999999998,
            "count": 0
           },
           {
            "bin_start": -0.09999999999999998,
            "bin_end": 0,
            "count": 0
           },
           {
            "bin_start": 0,
            "bin_end": 0.10000000000000009,
            "count": 10
           },
           {
            "bin_start": 0.10000000000000009,
            "bin_end": 0.20000000000000007,
            "count": 0
           },
           {
            "bin_start": 0.20000000000000007,
            "bin_end": 0.30000000000000004,
            "count": 0
           },
           {
            "bin_start": 0.30000000000000004,
            "bin_end": 0.4,
            "count": 0
           },
           {
            "bin_start": 0.4,
            "bin_end": 0.5,
            "count": 0
           }
          ]
         }
        },
        {
         "name": "seasons",
         "dtype": "object",
         "stats": {
          "unique_count": 1,
          "nan_count": 0,
          "categories": [
           {
            "name": "Spring",
            "count": 10
           }
          ]
         }
        },
        {
         "name": "years",
         "dtype": "int64",
         "stats": {
          "unique_count": 1,
          "nan_count": 0,
          "min": "1901",
          "max": "1901",
          "histogram": [
           {
            "bin_start": 1900.5,
            "bin_end": 1900.6,
            "count": 0
           },
           {
            "bin_start": 1900.6,
            "bin_end": 1900.7,
            "count": 0
           },
           {
            "bin_start": 1900.7,
            "bin_end": 1900.8,
            "count": 0
           },
           {
            "bin_start": 1900.8,
            "bin_end": 1900.9,
            "count": 0
           },
           {
            "bin_start": 1900.9,
            "bin_end": 1901,
            "count": 0
           },
           {
            "bin_start": 1901,
            "bin_end": 1901.1,
            "count": 10
           },
           {
            "bin_start": 1901.1,
            "bin_end": 1901.2,
            "count": 0
           },
           {
            "bin_start": 1901.2,
            "bin_end": 1901.3,
            "count": 0
           },
           {
            "bin_start": 1901.3,
            "bin_end": 1901.4,
            "count": 0
           },
           {
            "bin_start": 1901.4,
            "bin_end": 1901.5,
            "count": 0
           }
          ]
         }
        },
        {
         "name": "game_score",
         "dtype": "int64",
         "stats": {
          "unique_count": 2,
          "nan_count": 0,
          "min": "3",
          "max": "4",
          "histogram": [
           {
            "bin_start": 3,
            "bin_end": 3.1,
            "count": 7
           },
           {
            "bin_start": 3.1,
            "bin_end": 3.2,
            "count": 0
           },
           {
            "bin_start": 3.2,
            "bin_end": 3.3,
            "count": 0
           },
           {
            "bin_start": 3.3,
            "bin_end": 3.4,
            "count": 0
           },
           {
            "bin_start": 3.4,
            "bin_end": 3.5,
            "count": 0
           },
           {
            "bin_start": 3.5,
            "bin_end": 3.6,
            "count": 0
           },
           {
            "bin_start": 3.6,
            "bin_end": 3.7,
            "count": 0
           },
           {
            "bin_start": 3.7,
            "bin_end": 3.8,
            "count": 0
           },
           {
            "bin_start": 3.8,
            "bin_end": 3.9,
            "count": 0
           },
           {
            "bin_start": 3.9,
            "bin_end": 4,
            "count": 3
           }
          ]
         }
        },
        {
         "name": "game_score_delta",
         "dtype": "int64",
         "stats": {
          "unique_count": 3,
          "nan_count": 0,
          "min": "-1",
          "max": "1",
          "histogram": [
           {
            "bin_start": -1,
            "bin_end": -0.8,
            "count": 2
           },
           {
            "bin_start": -0.8,
            "bin_end": -0.6,
            "count": 0
           },
           {
            "bin_start": -0.6,
            "bin_end": -0.3999999999999999,
            "count": 0
           },
           {
            "bin_start": -0.3999999999999999,
            "bin_end": -0.19999999999999996,
            "count": 0
           },
           {
            "bin_start": -0.19999999999999996,
            "bin_end": 0,
            "count": 0
           },
           {
            "bin_start": 0,
            "bin_end": 0.20000000000000018,
            "count": 5
           },
           {
            "bin_start": 0.20000000000000018,
            "bin_end": 0.40000000000000013,
            "count": 0
           },
           {
            "bin_start": 0.40000000000000013,
            "bin_end": 0.6000000000000001,
            "count": 0
           },
           {
            "bin_start": 0.6000000000000001,
            "bin_end": 0.8,
            "count": 0
           },
           {
            "bin_start": 0.8,
            "bin_end": 1,
            "count": 3
           }
          ]
         }
        },
        {
         "name": "game",
         "dtype": "int64",
         "stats": {
          "unique_count": 9,
          "nan_count": 0,
          "min": "1",
          "max": "10",
          "histogram": [
           {
            "bin_start": 1,
            "bin_end": 1.9,
            "count": 1
           },
           {
            "bin_start": 1.9,
            "bin_end": 2.8,
            "count": 1
           },
           {
            "bin_start": 2.8,
            "bin_end": 3.7,
            "count": 1
           },
           {
            "bin_start": 3.7,
            "bin_end": 4.6,
            "count": 0
           },
           {
            "bin_start": 4.6,
            "bin_end": 5.5,
            "count": 1
           },
           {
            "bin_start": 5.5,
            "bin_end": 6.4,
            "count": 1
           },
           {
            "bin_start": 6.4,
            "bin_end": 7.3,
            "count": 1
           },
           {
            "bin_start": 7.3,
            "bin_end": 8.2,
            "count": 1
           },
           {
            "bin_start": 8.2,
            "bin_end": 9.1,
            "count": 1
           },
           {
            "bin_start": 9.1,
            "bin_end": 10,
            "count": 2
           }
          ]
         }
        },
        {
         "name": "_deepnote_index_column",
         "dtype": "int64"
        }
       ],
       "rows_top": [
        {
         "messages": "Hello there! What's your general plan for this game? My inclination when I play Austria is to piss …",
         "sender_labels": "True",
         "receiver_labels": "True",
         "speakers": "austria",
         "receivers": "turkey",
         "absolute_message_index": 0,
         "relative_message_index": 0,
         "seasons": "Spring",
         "years": 1901,
         "game_score": 3,
         "game_score_delta": 0,
         "game": 1,
         "_deepnote_index_column": 0
        },
        {
         "messages": "Hello France, world you like to discuss working together?",
         "sender_labels": "False",
         "receiver_labels": "True",
         "speakers": "england",
         "receivers": "france",
         "absolute_message_index": 0,
         "relative_message_index": 0,
         "seasons": "Spring",
         "years": 1901,
         "game_score": 3,
         "game_score_delta": 0,
         "game": 10,
         "_deepnote_index_column": 1
        },
        {
         "messages": "Hello Italy! I chose you as the first country to message to try to figure out the truth/lie setup",
         "sender_labels": "True",
         "receiver_labels": "True",
         "speakers": "austria",
         "receivers": "italy",
         "absolute_message_index": 0,
         "relative_message_index": 0,
         "seasons": "Spring",
         "years": 1901,
         "game_score": 3,
         "game_score_delta": 0,
         "game": 5,
         "_deepnote_index_column": 2
        },
        {
         "messages": "Hey Turkey! How are you doing? Looking forward to working with you this game!",
         "sender_labels": "True",
         "receiver_labels": "True",
         "speakers": "austria",
         "receivers": "turkey",
         "absolute_message_index": 0,
         "relative_message_index": 0,
         "seasons": "Spring",
         "years": 1901,
         "game_score": 3,
         "game_score_delta": 0,
         "game": 2,
         "_deepnote_index_column": 3
        },
        {
         "messages": "So, I'm proposing a northern triple. You, me, and Germany roll down the rest of the board, and then…",
         "sender_labels": "True",
         "receiver_labels": "True",
         "speakers": "russia",
         "receivers": "england",
         "absolute_message_index": 0,
         "relative_message_index": 0,
         "seasons": "Spring",
         "years": 1901,
         "game_score": 4,
         "game_score_delta": 1,
         "game": 3,
         "_deepnote_index_column": 4
        },
        {
         "messages": "Greetings and salutations!  I prefer not to bounce in Galicia - it weakens Austria against Italy si…",
         "sender_labels": "True",
         "receiver_labels": "True",
         "speakers": "russia",
         "receivers": "austria",
         "absolute_message_index": 0,
         "relative_message_index": 0,
         "seasons": "Spring",
         "years": 1901,
         "game_score": 4,
         "game_score_delta": 1,
         "game": 7,
         "_deepnote_index_column": 5
        },
        {
         "messages": "Greetings Russia ! I have a proposal for you",
         "sender_labels": "True",
         "receiver_labels": "True",
         "speakers": "turkey",
         "receivers": "russia",
         "absolute_message_index": 0,
         "relative_message_index": 0,
         "seasons": "Spring",
         "years": 1901,
         "game_score": 3,
         "game_score_delta": -1,
         "game": 9,
         "_deepnote_index_column": 6
        },
        {
         "messages": "Bounce in black, I assume?  Or is there anything clever you'd like to try?",
         "sender_labels": "True",
         "receiver_labels": "True",
         "speakers": "turkey",
         "receivers": "russia",
         "absolute_message_index": 0,
         "relative_message_index": 0,
         "seasons": "Spring",
         "years": 1901,
         "game_score": 3,
         "game_score_delta": -1,
         "game": 8,
         "_deepnote_index_column": 7
        },
        {
         "messages": "Hello Turkey, nice to make your acquaintance. \n\nI've been thinking about this game alot, because th…",
         "sender_labels": "True",
         "receiver_labels": "True",
         "speakers": "russia",
         "receivers": "turkey",
         "absolute_message_index": 0,
         "relative_message_index": 0,
         "seasons": "Spring",
         "years": 1901,
         "game_score": 4,
         "game_score_delta": 1,
         "game": 6,
         "_deepnote_index_column": 8
        },
        {
         "messages": "Hey Germany, would you like to work together?",
         "sender_labels": "True",
         "receiver_labels": "True",
         "speakers": "england",
         "receivers": "germany",
         "absolute_message_index": 1,
         "relative_message_index": 0,
         "seasons": "Spring",
         "years": 1901,
         "game_score": 3,
         "game_score_delta": 0,
         "game": 10,
         "_deepnote_index_column": 9
        }
       ],
       "rows_bottom": null
      },
      "text/plain": "                                            messages  sender_labels  \\\n0  Hello there! What's your general plan for this...           True   \n1  Hello France, world you like to discuss workin...          False   \n2  Hello Italy! I chose you as the first country ...           True   \n3  Hey Turkey! How are you doing? Looking forward...           True   \n4  So, I'm proposing a northern triple. You, me, ...           True   \n5  Greetings and salutations!  I prefer not to bo...           True   \n6       Greetings Russia ! I have a proposal for you           True   \n7  Bounce in black, I assume?  Or is there anythi...           True   \n8  Hello Turkey, nice to make your acquaintance. ...           True   \n9      Hey Germany, would you like to work together?           True   \n\n  receiver_labels speakers receivers  absolute_message_index  \\\n0            True  austria    turkey                     0.0   \n1            True  england    france                     0.0   \n2            True  austria     italy                     0.0   \n3            True  austria    turkey                     0.0   \n4            True   russia   england                     0.0   \n5            True   russia   austria                     0.0   \n6            True   turkey    russia                     0.0   \n7            True   turkey    russia                     0.0   \n8            True   russia    turkey                     0.0   \n9            True  england   germany                     1.0   \n\n   relative_message_index seasons  years  game_score  game_score_delta  game  \n0                     0.0  Spring   1901           3                 0     1  \n1                     0.0  Spring   1901           3                 0    10  \n2                     0.0  Spring   1901           3                 0     5  \n3                     0.0  Spring   1901           3                 0     2  \n4                     0.0  Spring   1901           4                 1     3  \n5                     0.0  Spring   1901           4                 1     7  \n6                     0.0  Spring   1901           3                -1     9  \n7                     0.0  Spring   1901           3                -1     8  \n8                     0.0  Spring   1901           4                 1     6  \n9                     0.0  Spring   1901           3                 0    10  ",
      "text/html": "<div>\n<style scoped>\n    .dataframe tbody tr th:only-of-type {\n        vertical-align: middle;\n    }\n\n    .dataframe tbody tr th {\n        vertical-align: top;\n    }\n\n    .dataframe thead th {\n        text-align: right;\n    }\n</style>\n<table border=\"1\" class=\"dataframe\">\n  <thead>\n    <tr style=\"text-align: right;\">\n      <th></th>\n      <th>messages</th>\n      <th>sender_labels</th>\n      <th>receiver_labels</th>\n      <th>speakers</th>\n      <th>receivers</th>\n      <th>absolute_message_index</th>\n      <th>relative_message_index</th>\n      <th>seasons</th>\n      <th>years</th>\n      <th>game_score</th>\n      <th>game_score_delta</th>\n      <th>game</th>\n    </tr>\n  </thead>\n  <tbody>\n    <tr>\n      <th>0</th>\n      <td>Hello there! What's your general plan for this...</td>\n      <td>True</td>\n      <td>True</td>\n      <td>austria</td>\n      <td>turkey</td>\n      <td>0.0</td>\n      <td>0.0</td>\n      <td>Spring</td>\n      <td>1901</td>\n      <td>3</td>\n      <td>0</td>\n      <td>1</td>\n    </tr>\n    <tr>\n      <th>1</th>\n      <td>Hello France, world you like to discuss workin...</td>\n      <td>False</td>\n      <td>True</td>\n      <td>england</td>\n      <td>france</td>\n      <td>0.0</td>\n      <td>0.0</td>\n      <td>Spring</td>\n      <td>1901</td>\n      <td>3</td>\n      <td>0</td>\n      <td>10</td>\n    </tr>\n    <tr>\n      <th>2</th>\n      <td>Hello Italy! I chose you as the first country ...</td>\n      <td>True</td>\n      <td>True</td>\n      <td>austria</td>\n      <td>italy</td>\n      <td>0.0</td>\n      <td>0.0</td>\n      <td>Spring</td>\n      <td>1901</td>\n      <td>3</td>\n      <td>0</td>\n      <td>5</td>\n    </tr>\n    <tr>\n      <th>3</th>\n      <td>Hey Turkey! How are you doing? Looking forward...</td>\n      <td>True</td>\n      <td>True</td>\n      <td>austria</td>\n      <td>turkey</td>\n      <td>0.0</td>\n      <td>0.0</td>\n      <td>Spring</td>\n      <td>1901</td>\n      <td>3</td>\n      <td>0</td>\n      <td>2</td>\n    </tr>\n    <tr>\n      <th>4</th>\n      <td>So, I'm proposing a northern triple. You, me, ...</td>\n      <td>True</td>\n      <td>True</td>\n      <td>russia</td>\n      <td>england</td>\n      <td>0.0</td>\n      <td>0.0</td>\n      <td>Spring</td>\n      <td>1901</td>\n      <td>4</td>\n      <td>1</td>\n      <td>3</td>\n    </tr>\n    <tr>\n      <th>5</th>\n      <td>Greetings and salutations!  I prefer not to bo...</td>\n      <td>True</td>\n      <td>True</td>\n      <td>russia</td>\n      <td>austria</td>\n      <td>0.0</td>\n      <td>0.0</td>\n      <td>Spring</td>\n      <td>1901</td>\n      <td>4</td>\n      <td>1</td>\n      <td>7</td>\n    </tr>\n    <tr>\n      <th>6</th>\n      <td>Greetings Russia ! I have a proposal for you</td>\n      <td>True</td>\n      <td>True</td>\n      <td>turkey</td>\n      <td>russia</td>\n      <td>0.0</td>\n      <td>0.0</td>\n      <td>Spring</td>\n      <td>1901</td>\n      <td>3</td>\n      <td>-1</td>\n      <td>9</td>\n    </tr>\n    <tr>\n      <th>7</th>\n      <td>Bounce in black, I assume?  Or is there anythi...</td>\n      <td>True</td>\n      <td>True</td>\n      <td>turkey</td>\n      <td>russia</td>\n      <td>0.0</td>\n      <td>0.0</td>\n      <td>Spring</td>\n      <td>1901</td>\n      <td>3</td>\n      <td>-1</td>\n      <td>8</td>\n    </tr>\n    <tr>\n      <th>8</th>\n      <td>Hello Turkey, nice to make your acquaintance. ...</td>\n      <td>True</td>\n      <td>True</td>\n      <td>russia</td>\n      <td>turkey</td>\n      <td>0.0</td>\n      <td>0.0</td>\n      <td>Spring</td>\n      <td>1901</td>\n      <td>4</td>\n      <td>1</td>\n      <td>6</td>\n    </tr>\n    <tr>\n      <th>9</th>\n      <td>Hey Germany, would you like to work together?</td>\n      <td>True</td>\n      <td>True</td>\n      <td>england</td>\n      <td>germany</td>\n      <td>1.0</td>\n      <td>0.0</td>\n      <td>Spring</td>\n      <td>1901</td>\n      <td>3</td>\n      <td>0</td>\n      <td>10</td>\n    </tr>\n  </tbody>\n</table>\n</div>"
     },
     "metadata": {}
    }
   ],
   "execution_count": null
  },
  {
   "cell_type": "code",
   "metadata": {
    "tags": [],
    "cell_id": "00002-d3b11dbe-ba89-407c-948f-60aa02ffe43f",
    "deepnote_to_be_reexecuted": false,
    "source_hash": "ea6811c9",
    "execution_start": 1623081149233,
    "execution_millis": 60,
    "deepnote_cell_type": "code"
   },
   "source": "print(f\"Total number of Rows: {df_train.shape[0] + df_test.shape[0] + df_val.shape[0]}\")",
   "outputs": [
    {
     "name": "stdout",
     "text": "Total number of Rows: 17289\n",
     "output_type": "stream"
    }
   ],
   "execution_count": null
  },
  {
   "cell_type": "code",
   "source": "grouped_labels = df_train.groupby(['game', 'sender_labels']).agg({'sender_labels': 'count'})\ngrouped_labels_percentage = grouped_labels.groupby(level=0).apply(lambda x:\n                                                                 x / float(x.sum()))",
   "metadata": {
    "tags": [],
    "cell_id": "00007-8d2d50a5-abd3-4b89-9efe-418889e84c0c",
    "deepnote_to_be_reexecuted": false,
    "source_hash": "e55aa604",
    "execution_start": 1623081149328,
    "execution_millis": 142,
    "deepnote_cell_type": "code"
   },
   "outputs": [],
   "execution_count": null
  },
  {
   "cell_type": "code",
   "source": "grouped_labels",
   "metadata": {
    "tags": [],
    "cell_id": "00008-acb60c84-a18b-479e-98f1-87be98fbe7b0",
    "deepnote_to_be_reexecuted": false,
    "source_hash": "20453e2a",
    "execution_start": 1623081149485,
    "execution_millis": 86,
    "deepnote_cell_type": "code"
   },
   "outputs": [
    {
     "output_type": "execute_result",
     "execution_count": 9,
     "data": {
      "application/vnd.deepnote.dataframe.v2+json": {
       "row_count": 18,
       "column_count": 1,
       "columns": [
        {
         "name": "sender_labels",
         "dtype": "int64",
         "stats": {
          "unique_count": 17,
          "nan_count": 0,
          "min": "27",
          "max": "3224",
          "histogram": [
           {
            "bin_start": 27,
            "bin_end": 346.7,
            "count": 9
           },
           {
            "bin_start": 346.7,
            "bin_end": 666.4,
            "count": 2
           },
           {
            "bin_start": 666.4,
            "bin_end": 986.0999999999999,
            "count": 3
           },
           {
            "bin_start": 986.0999999999999,
            "bin_end": 1305.8,
            "count": 0
           },
           {
            "bin_start": 1305.8,
            "bin_end": 1625.5,
            "count": 1
           },
           {
            "bin_start": 1625.5,
            "bin_end": 1945.1999999999998,
            "count": 1
           },
           {
            "bin_start": 1945.1999999999998,
            "bin_end": 2264.9,
            "count": 0
           },
           {
            "bin_start": 2264.9,
            "bin_end": 2584.6,
            "count": 1
           },
           {
            "bin_start": 2584.6,
            "bin_end": 2904.2999999999997,
            "count": 0
           },
           {
            "bin_start": 2904.2999999999997,
            "bin_end": 3224,
            "count": 1
           }
          ]
         }
        },
        {
         "name": "_deepnote_index_column",
         "dtype": "object"
        }
       ],
       "rows_top": [
        {
         "sender_labels": 219,
         "_deepnote_index_column": "(1, False)"
        },
        {
         "sender_labels": 2399,
         "_deepnote_index_column": "(1, True)"
        },
        {
         "sender_labels": 78,
         "_deepnote_index_column": "(2, False)"
        },
        {
         "sender_labels": 3224,
         "_deepnote_index_column": "(2, True)"
        },
        {
         "sender_labels": 45,
         "_deepnote_index_column": "(3, False)"
        },
        {
         "sender_labels": 1869,
         "_deepnote_index_column": "(3, True)"
        },
        {
         "sender_labels": 41,
         "_deepnote_index_column": "(5, False)"
        },
        {
         "sender_labels": 386,
         "_deepnote_index_column": "(5, True)"
        },
        {
         "sender_labels": 50,
         "_deepnote_index_column": "(6, False)"
        },
        {
         "sender_labels": 471,
         "_deepnote_index_column": "(6, True)"
        },
        {
         "sender_labels": 45,
         "_deepnote_index_column": "(7, False)"
        },
        {
         "sender_labels": 958,
         "_deepnote_index_column": "(7, True)"
        },
        {
         "sender_labels": 27,
         "_deepnote_index_column": "(8, False)"
        },
        {
         "sender_labels": 878,
         "_deepnote_index_column": "(8, True)"
        },
        {
         "sender_labels": 56,
         "_deepnote_index_column": "(9, False)"
        },
        {
         "sender_labels": 1555,
         "_deepnote_index_column": "(9, True)"
        },
        {
         "sender_labels": 30,
         "_deepnote_index_column": "(10, False)"
        },
        {
         "sender_labels": 801,
         "_deepnote_index_column": "(10, True)"
        }
       ],
       "rows_bottom": null
      },
      "text/plain": "                    sender_labels\ngame sender_labels               \n1    False                    219\n     True                    2399\n2    False                     78\n     True                    3224\n3    False                     45\n     True                    1869\n5    False                     41\n     True                     386\n6    False                     50\n     True                     471\n7    False                     45\n     True                     958\n8    False                     27\n     True                     878\n9    False                     56\n     True                    1555\n10   False                     30\n     True                     801",
      "text/html": "<div>\n<style scoped>\n    .dataframe tbody tr th:only-of-type {\n        vertical-align: middle;\n    }\n\n    .dataframe tbody tr th {\n        vertical-align: top;\n    }\n\n    .dataframe thead th {\n        text-align: right;\n    }\n</style>\n<table border=\"1\" class=\"dataframe\">\n  <thead>\n    <tr style=\"text-align: right;\">\n      <th></th>\n      <th></th>\n      <th>sender_labels</th>\n    </tr>\n    <tr>\n      <th>game</th>\n      <th>sender_labels</th>\n      <th></th>\n    </tr>\n  </thead>\n  <tbody>\n    <tr>\n      <th rowspan=\"2\" valign=\"top\">1</th>\n      <th>False</th>\n      <td>219</td>\n    </tr>\n    <tr>\n      <th>True</th>\n      <td>2399</td>\n    </tr>\n    <tr>\n      <th rowspan=\"2\" valign=\"top\">2</th>\n      <th>False</th>\n      <td>78</td>\n    </tr>\n    <tr>\n      <th>True</th>\n      <td>3224</td>\n    </tr>\n    <tr>\n      <th rowspan=\"2\" valign=\"top\">3</th>\n      <th>False</th>\n      <td>45</td>\n    </tr>\n    <tr>\n      <th>True</th>\n      <td>1869</td>\n    </tr>\n    <tr>\n      <th rowspan=\"2\" valign=\"top\">5</th>\n      <th>False</th>\n      <td>41</td>\n    </tr>\n    <tr>\n      <th>True</th>\n      <td>386</td>\n    </tr>\n    <tr>\n      <th rowspan=\"2\" valign=\"top\">6</th>\n      <th>False</th>\n      <td>50</td>\n    </tr>\n    <tr>\n      <th>True</th>\n      <td>471</td>\n    </tr>\n    <tr>\n      <th rowspan=\"2\" valign=\"top\">7</th>\n      <th>False</th>\n      <td>45</td>\n    </tr>\n    <tr>\n      <th>True</th>\n      <td>958</td>\n    </tr>\n    <tr>\n      <th rowspan=\"2\" valign=\"top\">8</th>\n      <th>False</th>\n      <td>27</td>\n    </tr>\n    <tr>\n      <th>True</th>\n      <td>878</td>\n    </tr>\n    <tr>\n      <th rowspan=\"2\" valign=\"top\">9</th>\n      <th>False</th>\n      <td>56</td>\n    </tr>\n    <tr>\n      <th>True</th>\n      <td>1555</td>\n    </tr>\n    <tr>\n      <th rowspan=\"2\" valign=\"top\">10</th>\n      <th>False</th>\n      <td>30</td>\n    </tr>\n    <tr>\n      <th>True</th>\n      <td>801</td>\n    </tr>\n  </tbody>\n</table>\n</div>"
     },
     "metadata": {}
    }
   ],
   "execution_count": null
  },
  {
   "cell_type": "code",
   "source": "grouped_labels_percentage",
   "metadata": {
    "tags": [],
    "cell_id": "00009-55a25c11-0c15-4bc4-87ba-2c1108d7e7b9",
    "deepnote_to_be_reexecuted": false,
    "source_hash": "57869995",
    "execution_start": 1623081149562,
    "execution_millis": 66,
    "deepnote_cell_type": "code"
   },
   "outputs": [
    {
     "output_type": "execute_result",
     "execution_count": 10,
     "data": {
      "application/vnd.deepnote.dataframe.v2+json": {
       "row_count": 18,
       "column_count": 1,
       "columns": [
        {
         "name": "sender_labels",
         "dtype": "float64",
         "stats": {
          "unique_count": 18,
          "nan_count": 0,
          "min": "0.023510971786833857",
          "max": "0.9764890282131662",
          "histogram": [
           {
            "bin_start": 0.023510971786833857,
            "bin_end": 0.11880877742946709,
            "count": 9
           },
           {
            "bin_start": 0.11880877742946709,
            "bin_end": 0.21410658307210034,
            "count": 0
           },
           {
            "bin_start": 0.21410658307210034,
            "bin_end": 0.3094043887147336,
            "count": 0
           },
           {
            "bin_start": 0.3094043887147336,
            "bin_end": 0.4047021943573668,
            "count": 0
           },
           {
            "bin_start": 0.4047021943573668,
            "bin_end": 0.5,
            "count": 0
           },
           {
            "bin_start": 0.5,
            "bin_end": 0.5952978056426332,
            "count": 0
           },
           {
            "bin_start": 0.5952978056426332,
            "bin_end": 0.6905956112852665,
            "count": 0
           },
           {
            "bin_start": 0.6905956112852665,
            "bin_end": 0.7858934169278997,
            "count": 0
           },
           {
            "bin_start": 0.7858934169278997,
            "bin_end": 0.881191222570533,
            "count": 0
           },
           {
            "bin_start": 0.881191222570533,
            "bin_end": 0.9764890282131662,
            "count": 9
           }
          ]
         }
        },
        {
         "name": "_deepnote_index_column",
         "dtype": "object"
        }
       ],
       "rows_top": [
        {
         "sender_labels": 0.08365164247517189,
         "_deepnote_index_column": "(1, False)"
        },
        {
         "sender_labels": 0.9163483575248281,
         "_deepnote_index_column": "(1, True)"
        },
        {
         "sender_labels": 0.023622047244094488,
         "_deepnote_index_column": "(2, False)"
        },
        {
         "sender_labels": 0.9763779527559056,
         "_deepnote_index_column": "(2, True)"
        },
        {
         "sender_labels": 0.023510971786833857,
         "_deepnote_index_column": "(3, False)"
        },
        {
         "sender_labels": 0.9764890282131662,
         "_deepnote_index_column": "(3, True)"
        },
        {
         "sender_labels": 0.09601873536299765,
         "_deepnote_index_column": "(5, False)"
        },
        {
         "sender_labels": 0.9039812646370023,
         "_deepnote_index_column": "(5, True)"
        },
        {
         "sender_labels": 0.09596928982725528,
         "_deepnote_index_column": "(6, False)"
        },
        {
         "sender_labels": 0.9040307101727447,
         "_deepnote_index_column": "(6, True)"
        },
        {
         "sender_labels": 0.0448654037886341,
         "_deepnote_index_column": "(7, False)"
        },
        {
         "sender_labels": 0.9551345962113659,
         "_deepnote_index_column": "(7, True)"
        },
        {
         "sender_labels": 0.02983425414364641,
         "_deepnote_index_column": "(8, False)"
        },
        {
         "sender_labels": 0.9701657458563536,
         "_deepnote_index_column": "(8, True)"
        },
        {
         "sender_labels": 0.03476101800124146,
         "_deepnote_index_column": "(9, False)"
        },
        {
         "sender_labels": 0.9652389819987586,
         "_deepnote_index_column": "(9, True)"
        },
        {
         "sender_labels": 0.036101083032490974,
         "_deepnote_index_column": "(10, False)"
        },
        {
         "sender_labels": 0.9638989169675091,
         "_deepnote_index_column": "(10, True)"
        }
       ],
       "rows_bottom": null
      },
      "text/plain": "                    sender_labels\ngame sender_labels               \n1    False               0.083652\n     True                0.916348\n2    False               0.023622\n     True                0.976378\n3    False               0.023511\n     True                0.976489\n5    False               0.096019\n     True                0.903981\n6    False               0.095969\n     True                0.904031\n7    False               0.044865\n     True                0.955135\n8    False               0.029834\n     True                0.970166\n9    False               0.034761\n     True                0.965239\n10   False               0.036101\n     True                0.963899",
      "text/html": "<div>\n<style scoped>\n    .dataframe tbody tr th:only-of-type {\n        vertical-align: middle;\n    }\n\n    .dataframe tbody tr th {\n        vertical-align: top;\n    }\n\n    .dataframe thead th {\n        text-align: right;\n    }\n</style>\n<table border=\"1\" class=\"dataframe\">\n  <thead>\n    <tr style=\"text-align: right;\">\n      <th></th>\n      <th></th>\n      <th>sender_labels</th>\n    </tr>\n    <tr>\n      <th>game</th>\n      <th>sender_labels</th>\n      <th></th>\n    </tr>\n  </thead>\n  <tbody>\n    <tr>\n      <th rowspan=\"2\" valign=\"top\">1</th>\n      <th>False</th>\n      <td>0.083652</td>\n    </tr>\n    <tr>\n      <th>True</th>\n      <td>0.916348</td>\n    </tr>\n    <tr>\n      <th rowspan=\"2\" valign=\"top\">2</th>\n      <th>False</th>\n      <td>0.023622</td>\n    </tr>\n    <tr>\n      <th>True</th>\n      <td>0.976378</td>\n    </tr>\n    <tr>\n      <th rowspan=\"2\" valign=\"top\">3</th>\n      <th>False</th>\n      <td>0.023511</td>\n    </tr>\n    <tr>\n      <th>True</th>\n      <td>0.976489</td>\n    </tr>\n    <tr>\n      <th rowspan=\"2\" valign=\"top\">5</th>\n      <th>False</th>\n      <td>0.096019</td>\n    </tr>\n    <tr>\n      <th>True</th>\n      <td>0.903981</td>\n    </tr>\n    <tr>\n      <th rowspan=\"2\" valign=\"top\">6</th>\n      <th>False</th>\n      <td>0.095969</td>\n    </tr>\n    <tr>\n      <th>True</th>\n      <td>0.904031</td>\n    </tr>\n    <tr>\n      <th rowspan=\"2\" valign=\"top\">7</th>\n      <th>False</th>\n      <td>0.044865</td>\n    </tr>\n    <tr>\n      <th>True</th>\n      <td>0.955135</td>\n    </tr>\n    <tr>\n      <th rowspan=\"2\" valign=\"top\">8</th>\n      <th>False</th>\n      <td>0.029834</td>\n    </tr>\n    <tr>\n      <th>True</th>\n      <td>0.970166</td>\n    </tr>\n    <tr>\n      <th rowspan=\"2\" valign=\"top\">9</th>\n      <th>False</th>\n      <td>0.034761</td>\n    </tr>\n    <tr>\n      <th>True</th>\n      <td>0.965239</td>\n    </tr>\n    <tr>\n      <th rowspan=\"2\" valign=\"top\">10</th>\n      <th>False</th>\n      <td>0.036101</td>\n    </tr>\n    <tr>\n      <th>True</th>\n      <td>0.963899</td>\n    </tr>\n  </tbody>\n</table>\n</div>"
     },
     "metadata": {}
    }
   ],
   "execution_count": null
  },
  {
   "cell_type": "markdown",
   "source": "#### EDA",
   "metadata": {
    "tags": [],
    "cell_id": "00002-863a698e-05d3-4425-9d5e-6825482c668c",
    "deepnote_cell_type": "markdown"
   }
  },
  {
   "cell_type": "code",
   "metadata": {
    "tags": [],
    "cell_id": "00002-46dc1974-8b11-4843-93ef-13d189f0ec19",
    "deepnote_to_be_reexecuted": false,
    "source_hash": "8bf01e0b",
    "execution_start": 1623081149635,
    "execution_millis": 80,
    "deepnote_cell_type": "code"
   },
   "source": "df_train.info()",
   "outputs": [
    {
     "name": "stdout",
     "text": "<class 'pandas.core.frame.DataFrame'>\nRangeIndex: 13132 entries, 0 to 13131\nData columns (total 12 columns):\n #   Column                  Non-Null Count  Dtype  \n---  ------                  --------------  -----  \n 0   messages                13132 non-null  object \n 1   sender_labels           13132 non-null  bool   \n 2   receiver_labels         13132 non-null  object \n 3   speakers                13132 non-null  object \n 4   receivers               13132 non-null  object \n 5   absolute_message_index  13132 non-null  float64\n 6   relative_message_index  13132 non-null  float64\n 7   seasons                 13132 non-null  object \n 8   years                   13132 non-null  int64  \n 9   game_score              13132 non-null  int64  \n 10  game_score_delta        13132 non-null  int64  \n 11  game                    13132 non-null  int64  \ndtypes: bool(1), float64(2), int64(4), object(5)\nmemory usage: 1.1+ MB\n",
     "output_type": "stream"
    }
   ],
   "execution_count": null
  },
  {
   "cell_type": "code",
   "metadata": {
    "tags": [],
    "cell_id": "00004-b8e9d208-c707-43ad-b8f4-ffd783170d9d",
    "deepnote_to_be_reexecuted": false,
    "source_hash": "f4ae32e9",
    "execution_start": 1623081149709,
    "execution_millis": 186,
    "deepnote_cell_type": "code"
   },
   "source": "descr_sum = df_train.describe()\ndescr_sum",
   "outputs": [
    {
     "output_type": "execute_result",
     "execution_count": 12,
     "data": {
      "application/vnd.deepnote.dataframe.v2+json": {
       "row_count": 8,
       "column_count": 6,
       "columns": [
        {
         "name": "absolute_message_index",
         "dtype": "float64",
         "stats": {
          "unique_count": 8,
          "nan_count": 0,
          "min": "0.0",
          "max": "13132.0",
          "histogram": [
           {
            "bin_start": 0,
            "bin_end": 1313.2,
            "count": 5
           },
           {
            "bin_start": 1313.2,
            "bin_end": 2626.4,
            "count": 1
           },
           {
            "bin_start": 2626.4,
            "bin_end": 3939.6000000000004,
            "count": 1
           },
           {
            "bin_start": 3939.6000000000004,
            "bin_end": 5252.8,
            "count": 0
           },
           {
            "bin_start": 5252.8,
            "bin_end": 6566,
            "count": 0
           },
           {
            "bin_start": 6566,
            "bin_end": 7879.200000000001,
            "count": 0
           },
           {
            "bin_start": 7879.200000000001,
            "bin_end": 9192.4,
            "count": 0
           },
           {
            "bin_start": 9192.4,
            "bin_end": 10505.6,
            "count": 0
           },
           {
            "bin_start": 10505.6,
            "bin_end": 11818.800000000001,
            "count": 0
           },
           {
            "bin_start": 11818.800000000001,
            "bin_end": 13132,
            "count": 1
           }
          ]
         }
        },
        {
         "name": "relative_message_index",
         "dtype": "float64",
         "stats": {
          "unique_count": 8,
          "nan_count": 0,
          "min": "0.0",
          "max": "13132.0",
          "histogram": [
           {
            "bin_start": 0,
            "bin_end": 1313.2,
            "count": 7
           },
           {
            "bin_start": 1313.2,
            "bin_end": 2626.4,
            "count": 0
           },
           {
            "bin_start": 2626.4,
            "bin_end": 3939.6000000000004,
            "count": 0
           },
           {
            "bin_start": 3939.6000000000004,
            "bin_end": 5252.8,
            "count": 0
           },
           {
            "bin_start": 5252.8,
            "bin_end": 6566,
            "count": 0
           },
           {
            "bin_start": 6566,
            "bin_end": 7879.200000000001,
            "count": 0
           },
           {
            "bin_start": 7879.200000000001,
            "bin_end": 9192.4,
            "count": 0
           },
           {
            "bin_start": 9192.4,
            "bin_end": 10505.6,
            "count": 0
           },
           {
            "bin_start": 10505.6,
            "bin_end": 11818.800000000001,
            "count": 0
           },
           {
            "bin_start": 11818.800000000001,
            "bin_end": 13132,
            "count": 1
           }
          ]
         }
        },
        {
         "name": "years",
         "dtype": "float64",
         "stats": {
          "unique_count": 8,
          "nan_count": 0,
          "min": "2.37390695182048",
          "max": "13132.0",
          "histogram": [
           {
            "bin_start": 2.37390695182048,
            "bin_end": 1315.3365162566386,
            "count": 1
           },
           {
            "bin_start": 1315.3365162566386,
            "bin_end": 2628.2991255614565,
            "count": 6
           },
           {
            "bin_start": 2628.2991255614565,
            "bin_end": 3941.2617348662743,
            "count": 0
           },
           {
            "bin_start": 3941.2617348662743,
            "bin_end": 5254.2243441710925,
            "count": 0
           },
           {
            "bin_start": 5254.2243441710925,
            "bin_end": 6567.186953475911,
            "count": 0
           },
           {
            "bin_start": 6567.186953475911,
            "bin_end": 7880.149562780728,
            "count": 0
           },
           {
            "bin_start": 7880.149562780728,
            "bin_end": 9193.112172085546,
            "count": 0
           },
           {
            "bin_start": 9193.112172085546,
            "bin_end": 10506.074781390364,
            "count": 0
           },
           {
            "bin_start": 10506.074781390364,
            "bin_end": 11819.03739069518,
            "count": 0
           },
           {
            "bin_start": 11819.03739069518,
            "bin_end": 13132,
            "count": 1
           }
          ]
         }
        },
        {
         "name": "game_score",
         "dtype": "float64",
         "stats": {
          "unique_count": 8,
          "nan_count": 0,
          "min": "0.0",
          "max": "13132.0",
          "histogram": [
           {
            "bin_start": 0,
            "bin_end": 1313.2,
            "count": 7
           },
           {
            "bin_start": 1313.2,
            "bin_end": 2626.4,
            "count": 0
           },
           {
            "bin_start": 2626.4,
            "bin_end": 3939.6000000000004,
            "count": 0
           },
           {
            "bin_start": 3939.6000000000004,
            "bin_end": 5252.8,
            "count": 0
           },
           {
            "bin_start": 5252.8,
            "bin_end": 6566,
            "count": 0
           },
           {
            "bin_start": 6566,
            "bin_end": 7879.200000000001,
            "count": 0
           },
           {
            "bin_start": 7879.200000000001,
            "bin_end": 9192.4,
            "count": 0
           },
           {
            "bin_start": 9192.4,
            "bin_end": 10505.6,
            "count": 0
           },
           {
            "bin_start": 10505.6,
            "bin_end": 11818.800000000001,
            "count": 0
           },
           {
            "bin_start": 11818.800000000001,
            "bin_end": 13132,
            "count": 1
           }
          ]
         }
        },
        {
         "name": "game_score_delta",
         "dtype": "float64",
         "stats": {
          "unique_count": 8,
          "nan_count": 0,
          "min": "-14.0",
          "max": "13132.0",
          "histogram": [
           {
            "bin_start": -14,
            "bin_end": 1300.6,
            "count": 7
           },
           {
            "bin_start": 1300.6,
            "bin_end": 2615.2,
            "count": 0
           },
           {
            "bin_start": 2615.2,
            "bin_end": 3929.7999999999997,
            "count": 0
           },
           {
            "bin_start": 3929.7999999999997,
            "bin_end": 5244.4,
            "count": 0
           },
           {
            "bin_start": 5244.4,
            "bin_end": 6559,
            "count": 0
           },
           {
            "bin_start": 6559,
            "bin_end": 7873.599999999999,
            "count": 0
           },
           {
            "bin_start": 7873.599999999999,
            "bin_end": 9188.199999999999,
            "count": 0
           },
           {
            "bin_start": 9188.199999999999,
            "bin_end": 10502.8,
            "count": 0
           },
           {
            "bin_start": 10502.8,
            "bin_end": 11817.4,
            "count": 0
           },
           {
            "bin_start": 11817.4,
            "bin_end": 13132,
            "count": 1
           }
          ]
         }
        },
        {
         "name": "game",
         "dtype": "float64",
         "stats": {
          "unique_count": 8,
          "nan_count": 0,
          "min": "1.0",
          "max": "13132.0",
          "histogram": [
           {
            "bin_start": 1,
            "bin_end": 1314.1,
            "count": 7
           },
           {
            "bin_start": 1314.1,
            "bin_end": 2627.2,
            "count": 0
           },
           {
            "bin_start": 2627.2,
            "bin_end": 3940.2999999999997,
            "count": 0
           },
           {
            "bin_start": 3940.2999999999997,
            "bin_end": 5253.4,
            "count": 0
           },
           {
            "bin_start": 5253.4,
            "bin_end": 6566.5,
            "count": 0
           },
           {
            "bin_start": 6566.5,
            "bin_end": 7879.599999999999,
            "count": 0
           },
           {
            "bin_start": 7879.599999999999,
            "bin_end": 9192.699999999999,
            "count": 0
           },
           {
            "bin_start": 9192.699999999999,
            "bin_end": 10505.8,
            "count": 0
           },
           {
            "bin_start": 10505.8,
            "bin_end": 11818.9,
            "count": 0
           },
           {
            "bin_start": 11818.9,
            "bin_end": 13132,
            "count": 1
           }
          ]
         }
        },
        {
         "name": "_deepnote_index_column",
         "dtype": "object"
        }
       ],
       "rows_top": [
        {
         "absolute_message_index": 13132,
         "relative_message_index": 13132,
         "years": 13132,
         "game_score": 13132,
         "game_score_delta": 13132,
         "game": 13132,
         "_deepnote_index_column": "count"
        },
        {
         "absolute_message_index": 1026.9600213219617,
         "relative_message_index": 120.6465123362778,
         "years": 1903.5350289369478,
         "game_score": 5.326226012793177,
         "game_score_delta": 0.07142857142857142,
         "game": 4.363006396588486,
         "_deepnote_index_column": "mean"
        },
        {
         "absolute_message_index": 813.8619386594241,
         "relative_message_index": 139.00446410481962,
         "years": 2.37390695182048,
         "game_score": 2.0495062338014085,
         "game_score_delta": 2.1507605808363484,
         "game": 3.184506564335253,
         "_deepnote_index_column": "std"
        },
        {
         "absolute_message_index": 0,
         "relative_message_index": 0,
         "years": 1901,
         "game_score": 0,
         "game_score_delta": -14,
         "game": 1,
         "_deepnote_index_column": "min"
        },
        {
         "absolute_message_index": 364,
         "relative_message_index": 23,
         "years": 1902,
         "game_score": 4,
         "game_score_delta": -1,
         "game": 2,
         "_deepnote_index_column": "25%"
        },
        {
         "absolute_message_index": 802,
         "relative_message_index": 66,
         "years": 1903,
         "game_score": 5,
         "game_score_delta": 0,
         "game": 3,
         "_deepnote_index_column": "50%"
        },
        {
         "absolute_message_index": 1540,
         "relative_message_index": 159,
         "years": 1905,
         "game_score": 6,
         "game_score_delta": 1,
         "game": 8,
         "_deepnote_index_column": "75%"
        },
        {
         "absolute_message_index": 3301,
         "relative_message_index": 674,
         "years": 1910,
         "game_score": 17,
         "game_score_delta": 14,
         "game": 10,
         "_deepnote_index_column": "max"
        }
       ],
       "rows_bottom": null
      },
      "text/plain": "       absolute_message_index  relative_message_index         years  \\\ncount            13132.000000            13132.000000  13132.000000   \nmean              1026.960021              120.646512   1903.535029   \nstd                813.861939              139.004464      2.373907   \nmin                  0.000000                0.000000   1901.000000   \n25%                364.000000               23.000000   1902.000000   \n50%                802.000000               66.000000   1903.000000   \n75%               1540.000000              159.000000   1905.000000   \nmax               3301.000000              674.000000   1910.000000   \n\n         game_score  game_score_delta          game  \ncount  13132.000000      13132.000000  13132.000000  \nmean       5.326226          0.071429      4.363006  \nstd        2.049506          2.150761      3.184507  \nmin        0.000000        -14.000000      1.000000  \n25%        4.000000         -1.000000      2.000000  \n50%        5.000000          0.000000      3.000000  \n75%        6.000000          1.000000      8.000000  \nmax       17.000000         14.000000     10.000000  ",
      "text/html": "<div>\n<style scoped>\n    .dataframe tbody tr th:only-of-type {\n        vertical-align: middle;\n    }\n\n    .dataframe tbody tr th {\n        vertical-align: top;\n    }\n\n    .dataframe thead th {\n        text-align: right;\n    }\n</style>\n<table border=\"1\" class=\"dataframe\">\n  <thead>\n    <tr style=\"text-align: right;\">\n      <th></th>\n      <th>absolute_message_index</th>\n      <th>relative_message_index</th>\n      <th>years</th>\n      <th>game_score</th>\n      <th>game_score_delta</th>\n      <th>game</th>\n    </tr>\n  </thead>\n  <tbody>\n    <tr>\n      <th>count</th>\n      <td>13132.000000</td>\n      <td>13132.000000</td>\n      <td>13132.000000</td>\n      <td>13132.000000</td>\n      <td>13132.000000</td>\n      <td>13132.000000</td>\n    </tr>\n    <tr>\n      <th>mean</th>\n      <td>1026.960021</td>\n      <td>120.646512</td>\n      <td>1903.535029</td>\n      <td>5.326226</td>\n      <td>0.071429</td>\n      <td>4.363006</td>\n    </tr>\n    <tr>\n      <th>std</th>\n      <td>813.861939</td>\n      <td>139.004464</td>\n      <td>2.373907</td>\n      <td>2.049506</td>\n      <td>2.150761</td>\n      <td>3.184507</td>\n    </tr>\n    <tr>\n      <th>min</th>\n      <td>0.000000</td>\n      <td>0.000000</td>\n      <td>1901.000000</td>\n      <td>0.000000</td>\n      <td>-14.000000</td>\n      <td>1.000000</td>\n    </tr>\n    <tr>\n      <th>25%</th>\n      <td>364.000000</td>\n      <td>23.000000</td>\n      <td>1902.000000</td>\n      <td>4.000000</td>\n      <td>-1.000000</td>\n      <td>2.000000</td>\n    </tr>\n    <tr>\n      <th>50%</th>\n      <td>802.000000</td>\n      <td>66.000000</td>\n      <td>1903.000000</td>\n      <td>5.000000</td>\n      <td>0.000000</td>\n      <td>3.000000</td>\n    </tr>\n    <tr>\n      <th>75%</th>\n      <td>1540.000000</td>\n      <td>159.000000</td>\n      <td>1905.000000</td>\n      <td>6.000000</td>\n      <td>1.000000</td>\n      <td>8.000000</td>\n    </tr>\n    <tr>\n      <th>max</th>\n      <td>3301.000000</td>\n      <td>674.000000</td>\n      <td>1910.000000</td>\n      <td>17.000000</td>\n      <td>14.000000</td>\n      <td>10.000000</td>\n    </tr>\n  </tbody>\n</table>\n</div>"
     },
     "metadata": {}
    }
   ],
   "execution_count": null
  },
  {
   "cell_type": "code",
   "metadata": {
    "tags": [],
    "cell_id": "00005-436b2108-9b23-4f55-badb-2975f9633d4d",
    "deepnote_to_be_reexecuted": false,
    "source_hash": "9b83e245",
    "execution_start": 1623081149897,
    "execution_millis": 9146,
    "deepnote_cell_type": "code"
   },
   "source": "def mulitple_hist(df,columns, n_col = 2):\n    n_row = math.ceil(len(columns)/2)\n    column_index = 0\n    fig, axes = plt.subplots(n_row, n_col, figsize=(15,20))\n    fig.tight_layout(pad=3.0)\n    if len(columns)%2 >0:  \n        fig.delaxes(axes[n_row-1][n_col-1])\n\n    for col, ax in zip(columns, axes.flatten()):\n            ax.hist(df[col], bins= 100)\n            ax.set_title(col, fontsize=14)\n            ax.set_ylabel('Count')\n            mean_line = ax.axvline(df[col].mean(), color='black', linestyle='--')\n\n    handles, labels = ax.get_legend_handles_labels()\n    fig.legend(handles, labels, loc='lower right' )\n    plt.show()\n\n\n\n\n#numerical_columns = df.columns[df.dtypes != 'object']\n#print(numerical_columns)\nmulitple_hist(df_train,df_train.select_dtypes('number').columns)",
   "outputs": [
    {
     "data": {
      "text/plain": "<Figure size 1080x1440 with 6 Axes>",
      "image/png": "[encoded data removed]"
     },
     "metadata": {
      "needs_background": "light",
      "image/png": {
       "width": 1082,
       "height": 1432
      }
     },
     "output_type": "display_data"
    }
   ],
   "execution_count": null
  },
  {
   "cell_type": "code",
   "metadata": {
    "tags": [],
    "cell_id": "00006-4ca0243a-a783-4568-9d67-7e2ee99179d7",
    "deepnote_to_be_reexecuted": false,
    "source_hash": "455c7b4b",
    "execution_start": 1623081159038,
    "execution_millis": 59,
    "deepnote_cell_type": "code"
   },
   "source": "df_train.isnull().sum()",
   "outputs": [
    {
     "output_type": "execute_result",
     "execution_count": 14,
     "data": {
      "text/plain": "messages                  0\nsender_labels             0\nreceiver_labels           0\nspeakers                  0\nreceivers                 0\nabsolute_message_index    0\nrelative_message_index    0\nseasons                   0\nyears                     0\ngame_score                0\ngame_score_delta          0\ngame                      0\ndtype: int64"
     },
     "metadata": {}
    }
   ],
   "execution_count": null
  },
  {
   "cell_type": "markdown",
   "source": "#### Data Processing",
   "metadata": {
    "tags": [],
    "cell_id": "00008-ee7a4939-96e6-4a76-8507-dd00050c91f8",
    "deepnote_cell_type": "markdown"
   }
  },
  {
   "cell_type": "code",
   "metadata": {
    "tags": [],
    "cell_id": "00008-0ea04697-686c-4a46-a613-3af9320943e8",
    "deepnote_to_be_reexecuted": false,
    "source_hash": "53b6c0fc",
    "execution_start": 1623081159089,
    "execution_millis": 12463,
    "deepnote_cell_type": "code"
   },
   "source": "nltk.download('stopwords')\nnltk.download('punkt')\nnltk.download('averaged_perceptron_tagger')\nnltk.download('maxent_ne_chunker')\nnltk.download('words')\nnltk.download('wordnet')\nspacy.cli.download(\"en_core_web_sm\")\nnlp = spacy.load('en_core_web_sm')",
   "outputs": [
    {
     "name": "stderr",
     "text": "[nltk_data] Downloading package stopwords to /root/nltk_data...\n[nltk_data]   Package stopwords is already up-to-date!\n[nltk_data] Downloading package punkt to /root/nltk_data...\n[nltk_data]   Package punkt is already up-to-date!\n[nltk_data] Downloading package averaged_perceptron_tagger to\n[nltk_data]     /root/nltk_data...\n[nltk_data]   Package averaged_perceptron_tagger is already up-to-\n[nltk_data]       date!\n[nltk_data] Downloading package maxent_ne_chunker to\n[nltk_data]     /root/nltk_data...\n[nltk_data]   Package maxent_ne_chunker is already up-to-date!\n[nltk_data] Downloading package words to /root/nltk_data...\n[nltk_data]   Package words is already up-to-date!\n[nltk_data] Downloading package wordnet to /root/nltk_data...\n[nltk_data]   Package wordnet is already up-to-date!\n\u001b[38;5;2m✔ Download and installation successful\u001b[0m\nYou can now load the package via spacy.load('en_core_web_sm')\n",
     "output_type": "stream"
    }
   ],
   "execution_count": null
  },
  {
   "cell_type": "markdown",
   "source": "#### Add word type count | Doc-Characteristics",
   "metadata": {
    "tags": [],
    "cell_id": "00013-3d8b0981-d02c-4e5b-94a4-4788069353be",
    "deepnote_cell_type": "markdown"
   }
  },
  {
   "cell_type": "code",
   "metadata": {
    "tags": [],
    "cell_id": "00014-756137fc-621e-4550-b238-a85923301b49",
    "deepnote_to_be_reexecuted": false,
    "source_hash": "418fd7e6",
    "execution_start": 1623081346997,
    "execution_millis": 636402,
    "deepnote_cell_type": "code"
   },
   "source": "def doc_characteristics(df):\n\n    tag_keys = ['ADJ','ADP', 'ADV', 'AUX', 'INTJ','CONJ','NOUN','DET','PROPN','NUM','VERB','PART','PRON','SCONJ']\n    cols = tag_keys[:]\n    cols.append(\"No_sents\")\n    cols.append(\"No_chars\")\n    df_tags = pd.DataFrame(columns = cols)\n\n    \n    for i in range(df.shape[0]):\n\n        char_count = 0\n        tag_counter = defaultdict(lambda : 0)\n        #for key in tag_keys:\n            #tag_counter[key]\n        \n        corpus_sent = nltk.sent_tokenize(df['messages'][i])\n\n        for sent in corpus_sent:\n            doc = nlp(sent)\n\n            for token in doc:\n                tag_counter[token.pos_]+= 1\n\n            #Char Count\n            tokens = nltk.word_tokenize(sent)\n            for t in tokens:\n                char_count += len(list(t))\n\n            \n        avg_count_list = list()\n        for key in tag_keys:\n            if tag_counter[key] > 0:\n                count_avg_sentence = tag_counter[key]/ len(corpus_sent)\n                avg_count_list.append(count_avg_sentence)\n            else:\n                avg_count_list.append(0)\n\n        avg_count_list.append(len(corpus_sent))\n        avg_count_list.append(char_count)\n\n        tag_row = pd.Series(avg_count_list, index=cols)\n        df_tags = df_tags.append(tag_row, ignore_index=True)\n\n    return df_tags\n\ndf_train = pd.concat([df_train,doc_characteristics(df_train)], axis=1)\ndf_val = pd.concat([df_val,doc_characteristics(df_val)], axis=1)\ndf_test = pd.concat([df_test,doc_characteristics(df_test)], axis=1)",
   "outputs": [],
   "execution_count": null
  },
  {
   "cell_type": "markdown",
   "source": "#### Remove Stopping Words etc.",
   "metadata": {
    "tags": [],
    "cell_id": "00017-4d6346c8-f0c2-458d-ae86-c003f2b4406d",
    "deepnote_cell_type": "markdown"
   }
  },
  {
   "cell_type": "code",
   "metadata": {
    "tags": [],
    "cell_id": "00008-cdcee991-02c7-423a-b794-bfc9e6fec990",
    "deepnote_to_be_reexecuted": false,
    "source_hash": "a1f45290",
    "execution_start": 1623082126614,
    "execution_millis": 0,
    "deepnote_cell_type": "code"
   },
   "source": "REPLACE_BY_SPACE_RE = re.compile('[/(){}\\[\\]\\|@,;]')\nBAD_SYMBOLS_RE = re.compile('[^0-9a-z #+_]')\nSTOPWORDS = set(stopwords.words('english'))\n\ndef clean_text(text):\n    \"\"\"\n        text: a string\n        \n        return: modified initial string\n    \"\"\"\n    text = text.lower() # lowercase text\n    text = REPLACE_BY_SPACE_RE.sub(' ', text) # replace REPLACE_BY_SPACE_RE symbols by space in text. substitute the matched string in REPLACE_BY_SPACE_RE with space.\n    text = BAD_SYMBOLS_RE.sub('', text) # remove symbols which are in BAD_SYMBOLS_RE from text. substitute the matched string in BAD_SYMBOLS_RE with nothing. \n    text = ' '.join(word for word in text.split() if word not in STOPWORDS) # remove stopwords from text\n    \n    #lemmatization & country anonymization\n    lemmatizer = WordNetLemmatizer()\n    tokens = nltk.word_tokenize(text)\n    text_list =[]\n    for t in tokens:\n        text_list.append(lemmatizer.lemmatize(t))\n    text = ' '.join(text_list)\n    \n    return text",
   "outputs": [],
   "execution_count": null
  },
  {
   "cell_type": "code",
   "metadata": {
    "tags": [],
    "cell_id": "00017-e22abc4a-8576-4d25-99f5-8426072d371f",
    "deepnote_to_be_reexecuted": false,
    "source_hash": "a8aeb3a0",
    "execution_start": 1623082128652,
    "execution_millis": 12958,
    "deepnote_cell_type": "code"
   },
   "source": "df_train['messages'] = df_train['messages'].apply(clean_text)\ndf_train['messages'] = df_train['messages'].str.replace('\\d+', '')\ndf_val['messages'] = df_val['messages'].apply(clean_text)\ndf_val['messages'] = df_val['messages'].str.replace('\\d+', '')\ndf_test['messages'] = df_test['messages'].apply(clean_text)\ndf_test['messages'] = df_test['messages'].str.replace('\\d+', '')",
   "outputs": [
    {
     "name": "stderr",
     "text": "/shared-libs/python3.7/py-core/lib/python3.7/site-packages/ipykernel_launcher.py:2: FutureWarning: The default value of regex will change from True to False in a future version.\n  \n/shared-libs/python3.7/py-core/lib/python3.7/site-packages/ipykernel_launcher.py:4: FutureWarning: The default value of regex will change from True to False in a future version.\n  after removing the cwd from sys.path.\n/shared-libs/python3.7/py-core/lib/python3.7/site-packages/ipykernel_launcher.py:6: FutureWarning: The default value of regex will change from True to False in a future version.\n  \n",
     "output_type": "stream"
    }
   ],
   "execution_count": null
  },
  {
   "cell_type": "markdown",
   "source": "#### Anonymisation of Country Names ",
   "metadata": {
    "tags": [],
    "cell_id": "00020-a0bd9395-a42c-4c47-800d-abb607136abc",
    "deepnote_cell_type": "markdown"
   }
  },
  {
   "cell_type": "code",
   "source": "def country_anonymisation(df):\n    for index in range(df.shape[0]):\n        \n        #Receiver\n        rec_str = df[\"receivers\"][index]\n        rec_str +=  str(df[\"game\"][index])\n        df[index, \"receivers\"] = rec_str\n        \n        #Speaker\n        sen_str = df[\"speakers\"][index]\n        sen_str +=  str(df[\"game\"][index])\n        df.loc[index, \"speakers\"] = sen_str\n        \n        #Messages\n        message = []\n        for sent in  nltk.sent_tokenize(df['messages'][index]):\n            sent = sent.lower()\n            for token in nltk.word_tokenize(sent):\n                if token in ['austria', 'italy', 'germany', 'turkey', 'france', 'england', 'russia']:\n\n                    token +=  str(df[\"game\"][index])\n                message.append(token)    \n\n        df.loc[index, \"messages\"] = sen_str = TreebankWordDetokenizer().detokenize(message)",
   "metadata": {
    "tags": [],
    "cell_id": "00020-fe02893c-3c5e-4592-ac85-b23642c8a4c9",
    "deepnote_to_be_reexecuted": false,
    "source_hash": "32a9255b",
    "execution_start": 1623082141617,
    "execution_millis": 27,
    "deepnote_cell_type": "code"
   },
   "outputs": [],
   "execution_count": null
  },
  {
   "cell_type": "code",
   "source": "df_train = country_anonymisation(df_train)\ndf_val = country_anonymisation(df_val)\ndf_test = country_anonymisation(df_test)",
   "metadata": {
    "tags": [],
    "cell_id": "00022-4452a98b-1438-4644-b246-c31931309528",
    "deepnote_to_be_reexecuted": false,
    "source_hash": "60de60e9",
    "execution_start": 1623082141655,
    "deepnote_cell_type": "code"
   },
   "outputs": [
    {
     "output_type": "error",
     "ename": "KernelInterrupted",
     "evalue": "Execution interrupted by the Jupyter kernel.",
     "traceback": [
      "\u001b[0;31m---------------------------------------------------------------------------\u001b[0m",
      "\u001b[0;31mKernelInterrupted\u001b[0m: Execution interrupted by the Jupyter kernel."
     ]
    },
    {
     "output_type": "error",
     "ename": "KernelInterrupted",
     "evalue": "Execution interrupted by the Jupyter kernel.",
     "traceback": [
      "\u001b[0;31m---------------------------------------------------------------------------\u001b[0m",
      "\u001b[0;31mKernelInterrupted\u001b[0m: Execution interrupted by the Jupyter kernel."
     ]
    }
   ],
   "execution_count": null
  },
  {
   "cell_type": "markdown",
   "source": "#### Dummy Columns\n",
   "metadata": {
    "tags": [],
    "cell_id": "00020-ee19364b-34ef-4232-883f-153bd2acfb52",
    "deepnote_cell_type": "markdown"
   }
  },
  {
   "cell_type": "code",
   "source": "def dummy_columns(df):\n\n    column_to_dummies = [\n        'speakers',\n        'receivers',\n        'seasons',\n    ]\n    \n    df = pd.concat([df, pd.get_dummies(df[column_to_dummies])], axis=1)\n    df = df.drop(columns=column_to_dummies)\n\n    return df\n\ndf_train = dummy_columns(df_train)\ndf_val = dummy_columns(df_val)\ndf_test = dummy_columns(df_test)\n",
   "metadata": {
    "tags": [],
    "cell_id": "00021-2f279f0a-93b3-4cb0-879a-4dabc38ccea7",
    "deepnote_to_be_reexecuted": true,
    "source_hash": "d3b9bc8",
    "execution_start": 1623069283596,
    "execution_millis": 43,
    "deepnote_cell_type": "code"
   },
   "outputs": [],
   "execution_count": null
  },
  {
   "cell_type": "markdown",
   "source": "",
   "metadata": {
    "tags": [],
    "cell_id": "00023-73f10dd0-48ff-4321-92be-400dd01b08f1",
    "deepnote_cell_type": "markdown"
   }
  },
  {
   "cell_type": "code",
   "source": "def label_class(df):\n    df['sender_labels'] = df.sender_labels.astype(int)\n    df.rename(columns = {\"sender_labels\": \"class\"}, inplace=True)\n    return df\n\n\ndf_train = label_class(df_train)\ndf_val = label_class(df_val)\ndf_test = label_class(df_test)",
   "metadata": {
    "tags": [],
    "cell_id": "00024-24ee65b7-523e-4931-b132-c5405d5fe986",
    "deepnote_to_be_reexecuted": true,
    "source_hash": "e7fcf796",
    "deepnote_cell_type": "code"
   },
   "outputs": [],
   "execution_count": null
  },
  {
   "cell_type": "markdown",
   "source": "##### Final preprocessed Dataset",
   "metadata": {
    "tags": [],
    "cell_id": "00017-a842efd0-e368-48d5-9fd2-216fdd55cf4c",
    "deepnote_cell_type": "markdown"
   }
  },
  {
   "cell_type": "code",
   "metadata": {
    "tags": [],
    "cell_id": "00017-bc05d3f5-b5f0-42a6-95f5-952896c8e042",
    "deepnote_to_be_reexecuted": true,
    "source_hash": "9b5a4869",
    "execution_start": 1623069283645,
    "execution_millis": 397,
    "deepnote_cell_type": "code"
   },
   "source": "df_train.to_csv(\"train_preprocessed.csv\", index=False)\ndf_val.to_csv(\"validation_preprocessed.csv\", index=False)\ndf_test.to_csv(\"test_preprocessed.csv\", index=False)",
   "outputs": [],
   "execution_count": null
  },
  {
   "cell_type": "code",
   "source": "",
   "metadata": {
    "tags": [],
    "cell_id": "00031-a0937624-399c-4144-925e-0851d3bbda2f",
    "deepnote_cell_type": "code"
   },
   "outputs": [],
   "execution_count": null
  },
  {
   "cell_type": "markdown",
   "source": "<a style='text-decoration:none;line-height:16px;display:flex;color:#5B5B62;padding:10px;justify-content:end;' href='https://deepnote.com?utm_source=created-in-deepnote-cell&projectId=d30aab93-185d-4715-858f-78b8c83c5d5d' target=\"_blank\">\n<img alt='Created in deepnote.com' style='display:inline;max-height:16px;margin:0px;margin-right:7.5px;' src='data:image/svg+xml;base64,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' > </img>\nCreated in <span style='font-weight:600;margin-left:4px;'>Deepnote</span></a>",
   "metadata": {
    "tags": [],
    "created_in_deepnote_cell": true,
    "deepnote_cell_type": "markdown"
   }
  }
 ],
 "nbformat": 4,
 "nbformat_minor": 2,
 "metadata": {
  "orig_nbformat": 2,
  "deepnote": {
   "is_reactive": false
  },
  "deepnote_notebook_id": "459fa83d-d7fd-428b-b6c0-afc3bb18271d",
  "deepnote_execution_queue": []
 }
}