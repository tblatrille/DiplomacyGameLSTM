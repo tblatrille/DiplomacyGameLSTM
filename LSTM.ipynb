{
 "cells": [
  {
   "cell_type": "code",
   "source": "import pandas as pd\nimport json\nimport urllib\nimport pandas as pd\nimport io\nimport math\nimport re\nimport nltk\nfrom nltk.corpus import stopwords\nfrom nltk.stem import WordNetLemmatizer\n\nfrom matplotlib import pyplot as plt\nfrom keras.preprocessing.text import Tokenizer\nfrom keras.preprocessing.sequence import pad_sequences\nfrom keras import Sequential\nfrom keras.layers import Embedding, SpatialDropout1D, LSTM, Dense\nfrom collections import Counter, defaultdict\nimport spacy",
   "metadata": {
    "tags": [],
    "cell_id": "00000-231033c6-2bd9-4340-ba1a-b2da2eb70d97",
    "deepnote_to_be_reexecuted": false,
    "source_hash": "2d113773",
    "execution_start": 1623058788256,
    "execution_millis": 6790,
    "deepnote_cell_type": "code"
   },
   "outputs": [],
   "execution_count": 1
  },
  {
   "cell_type": "code",
   "metadata": {
    "tags": [],
    "cell_id": "00000-298ff8a3-2927-49cd-9fbf-f27118f12e01",
    "deepnote_to_be_reexecuted": false,
    "source_hash": "1e2cf05e",
    "execution_start": 1623058795057,
    "execution_millis": 10,
    "deepnote_cell_type": "code"
   },
   "source": "class LSTM:\n\n    def __init__(self,Xtrain, Xvalidate, Xtest, ytrain, yvalidate, ytest, mute = False):\n        print(\"-\"*60)\n        print(f\"Initializing LSTM Classifier\")\n        \n\n\n        self.Xtrain = Xtrain\n        self.ytrain = ytrain\n        self.Xvalidate = Xvalidate\n        self.yvalidate = yvalidate\n        self.Xtest = Xtest\n        self.ytest = ytest\n\n        self.mute = mute\n\n        self.prepro()\n\n        # Classification\n        self.classify()\n\n        # Evalaution\n        self.evaluation()\n\n    def preprocess(self):\n        print(\"-\"*60)\n        print(f\"Preprocessing\")\n            \n        # The maximum number of words to be used. (most frequent)\n        MAX_NB_WORDS = 2000\n        # Max number of words in each message.\n        MAX_SEQUENCE_LENGTH = 250\n        # This is fixed.\n        EMBEDDING_DIM = 100\n        tokenizer = Tokenizer(num_words=MAX_NB_WORDS, filters='!\"#$%&()*+,-./:;<=>?@[\\]^_`{|}~', lower=True)\n        tokenizer.fit_on_texts(df['messages'].values)\n        word_index = tokenizer.word_index\n        print(f'Found {len(word_index)} unique tokens.')\n\n\n        X = tokenizer.texts_to_sequences(df['messages'].values)\n\n        X = tokenizer.sequences_to_matrix(X, mode= \"tfidf\")\n\n        column_to_dummies = [\n            'speakers',\n            'receivers',\n            'seasons',\n            'receiver_labels'\n            \n        ]\n        # https://stackoverflow.com/questions/23208745/adding-dummy-columns-to-the-original-dataframe\n\n        df = pd.concat([df, pd.get_dummies(df[column_to_dummies])], axis=1)\n        column_to_dummies += [\"messages\"]\n        df = df.drop(columns=column_to_dummies)\n        df['sender_labels'] = df.sender_labels.astype(int)\n        df.rename(columns = {\"sender_labels\": \"class\"}, inplace=True)\n\n        df = pd.concat([df, pd.DataFrame(X)], axis=1)\n\n        return df\n\n    def train(self):\n        self.model = Sequential()\n        self.model.add(Embedding(MAX_NB_WORDS, EMBEDDING_DIM, input_length=X.shape[1]))\n        self.model.add(SpatialDropout1D(0.2))\n        self.model.add(LSTM(100, dropout=0.2, recurrent_dropout=0.2))\n\n        # Last Layer with 2 Nodes\n        self.model.add(Dense(2, activation='softmax'))\n        self.model.compile(loss='binary_crossentropy', optimizer='adam', metrics=['f1'])\n\n        epochs = 5\n        batch_size = 64\n\n\n        history = self.model.fit(X_train, Y_train, epochs=epochs, batch_size=batch_size,validation_split=0.1,callbacks=[EarlyStopping(monitor='val_loss', patience=3, min_delta=0.0001)])\n\n",
   "execution_count": 2,
   "outputs": []
  },
  {
   "cell_type": "code",
   "source": "df_train = pd.read_csv('train.csv')\n\n\ndef data_processor(df):\n    # The maximum number of words to be used. (most frequent)\n    MAX_NB_WORDS = 2000\n    # Max number of words in each message.\n    MAX_SEQUENCE_LENGTH = 250\n    # This is fixed.\n    EMBEDDING_DIM = 100\n    tokenizer = Tokenizer(num_words=MAX_NB_WORDS, filters='!\"#$%&()*+,-./:;<=>?@[\\]^_`{|}~', lower=True)\n    tokenizer.fit_on_texts(df['messages'].values)\n    word_index = tokenizer.word_index\n    print(f'Found {len(word_index)} unique tokens.')\n\n\n    #pd.DataFrame(X.numpy())\n\n    X = tokenizer.texts_to_sequences(df['messages'].values)\n\n    X = tokenizer.sequences_to_matrix(X, mode= \"tfidf\")\n\n    column_to_dummies = [\n        'speakers',\n        'receivers',\n        'seasons',\n        'receiver_labels'\n        \n    ]\n    # https://stackoverflow.com/questions/23208745/adding-dummy-columns-to-the-original-dataframe\n\n    df = pd.concat([df, pd.get_dummies(df[column_to_dummies])], axis=1)\n    column_to_dummies += [\"messages\"]\n    df = df.drop(columns=column_to_dummies)\n    df['sender_labels'] = df.sender_labels.astype(int)\n    df.rename(columns = {\"sender_labels\": \"class\"}, inplace=True)\n\n    df = pd.concat([df, pd.DataFrame(X)], axis=1)\n\n    return df",
   "metadata": {
    "tags": [],
    "cell_id": "00001-33c727b8-0efb-4321-a04c-0bcb0611d88d",
    "deepnote_to_be_reexecuted": false,
    "source_hash": "ff531275",
    "execution_start": 1623058795085,
    "execution_millis": 88,
    "deepnote_cell_type": "code"
   },
   "outputs": [],
   "execution_count": 3
  },
  {
   "cell_type": "code",
   "source": "df = data_processor(df_train)",
   "metadata": {
    "tags": [],
    "cell_id": "00004-2e222f90-0c09-4d36-b895-b0f62e513ab2",
    "deepnote_to_be_reexecuted": false,
    "source_hash": "ed362fd3",
    "execution_start": 1623059143945,
    "execution_millis": 4201,
    "deepnote_cell_type": "code"
   },
   "outputs": [
    {
     "name": "stdout",
     "text": "Found 8884 unique tokens.\n",
     "output_type": "stream"
    }
   ],
   "execution_count": 5
  },
  {
   "cell_type": "code",
   "source": "df",
   "metadata": {
    "tags": [],
    "cell_id": "00004-530e7386-c419-4209-b6b9-56b915ef6c25",
    "deepnote_to_be_reexecuted": false,
    "source_hash": "f804c160",
    "execution_start": 1623059652805,
    "execution_millis": 862,
    "deepnote_cell_type": "code"
   },
   "outputs": [
    {
     "output_type": "execute_result",
     "execution_count": 10,
     "data": {
      "application/vnd.deepnote.dataframe.v2+json": {
       "row_count": 13132,
       "column_count": 2027,
       "columns": [
        {
         "name": "class",
         "dtype": "int64",
         "stats": {
          "unique_count": 2,
          "nan_count": 0,
          "min": "0",
          "max": "1",
          "histogram": [
           {
            "bin_start": 0,
            "bin_end": 0.1,
            "count": 591
           },
           {
            "bin_start": 0.1,
            "bin_end": 0.2,
            "count": 0
           },
           {
            "bin_start": 0.2,
            "bin_end": 0.30000000000000004,
            "count": 0
           },
           {
            "bin_start": 0.30000000000000004,
            "bin_end": 0.4,
            "count": 0
           },
           {
            "bin_start": 0.4,
            "bin_end": 0.5,
            "count": 0
           },
           {
            "bin_start": 0.5,
            "bin_end": 0.6000000000000001,
            "count": 0
           },
           {
            "bin_start": 0.6000000000000001,
            "bin_end": 0.7000000000000001,
            "count": 0
           },
           {
            "bin_start": 0.7000000000000001,
            "bin_end": 0.8,
            "count": 0
           },
           {
            "bin_start": 0.8,
            "bin_end": 0.9,
            "count": 0
           },
           {
            "bin_start": 0.9,
            "bin_end": 1,
            "count": 12541
           }
          ]
         }
        },
        {
         "name": "absolute_message_index",
         "dtype": "float64",
         "stats": {
          "unique_count": 3302,
          "nan_count": 0,
          "min": "0.0",
          "max": "3301.0",
          "histogram": [
           {
            "bin_start": 0,
            "bin_end": 330.1,
            "count": 2979
           },
           {
            "bin_start": 330.1,
            "bin_end": 660.2,
            "count": 2596
           },
           {
            "bin_start": 660.2,
            "bin_end": 990.3000000000001,
            "count": 2064
           },
           {
            "bin_start": 990.3000000000001,
            "bin_end": 1320.4,
            "count": 1332
           },
           {
            "bin_start": 1320.4,
            "bin_end": 1650.5,
            "count": 1280
           },
           {
            "bin_start": 1650.5,
            "bin_end": 1980.6000000000001,
            "count": 923
           },
           {
            "bin_start": 1980.6000000000001,
            "bin_end": 2310.7000000000003,
            "count": 660
           },
           {
            "bin_start": 2310.7000000000003,
            "bin_end": 2640.8,
            "count": 637
           },
           {
            "bin_start": 2640.8,
            "bin_end": 2970.9,
            "count": 330
           },
           {
            "bin_start": 2970.9,
            "bin_end": 3301,
            "count": 331
           }
          ]
         }
        },
        {
         "name": "relative_message_index",
         "dtype": "float64",
         "stats": {
          "unique_count": 675,
          "nan_count": 0,
          "min": "0.0",
          "max": "674.0",
          "histogram": [
           {
            "bin_start": 0,
            "bin_end": 67.4,
            "count": 6659
           },
           {
            "bin_start": 67.4,
            "bin_end": 134.8,
            "count": 2639
           },
           {
            "bin_start": 134.8,
            "bin_end": 202.20000000000002,
            "count": 1190
           },
           {
            "bin_start": 202.20000000000002,
            "bin_end": 269.6,
            "count": 689
           },
           {
            "bin_start": 269.6,
            "bin_end": 337,
            "count": 600
           },
           {
            "bin_start": 337,
            "bin_end": 404.40000000000003,
            "count": 505
           },
           {
            "bin_start": 404.40000000000003,
            "bin_end": 471.80000000000007,
            "count": 416
           },
           {
            "bin_start": 471.80000000000007,
            "bin_end": 539.2,
            "count": 183
           },
           {
            "bin_start": 539.2,
            "bin_end": 606.6,
            "count": 134
           },
           {
            "bin_start": 606.6,
            "bin_end": 674,
            "count": 117
           }
          ]
         }
        },
        {
         "name": "years",
         "dtype": "int64",
         "stats": {
          "unique_count": 10,
          "nan_count": 0,
          "min": "1901",
          "max": "1910",
          "histogram": [
           {
            "bin_start": 1901,
            "bin_end": 1901.9,
            "count": 3131
           },
           {
            "bin_start": 1901.9,
            "bin_end": 1902.8,
            "count": 2933
           },
           {
            "bin_start": 1902.8,
            "bin_end": 1903.7,
            "count": 1548
           },
           {
            "bin_start": 1903.7,
            "bin_end": 1904.6,
            "count": 1226
           },
           {
            "bin_start": 1904.6,
            "bin_end": 1905.5,
            "count": 1430
           },
           {
            "bin_start": 1905.5,
            "bin_end": 1906.4,
            "count": 858
           },
           {
            "bin_start": 1906.4,
            "bin_end": 1907.3,
            "count": 1133
           },
           {
            "bin_start": 1907.3,
            "bin_end": 1908.2,
            "count": 397
           },
           {
            "bin_start": 1908.2,
            "bin_end": 1909.1,
            "count": 288
           },
           {
            "bin_start": 1909.1,
            "bin_end": 1910,
            "count": 188
           }
          ]
         }
        },
        {
         "name": "game_score",
         "dtype": "int64",
         "stats": {
          "unique_count": 17,
          "nan_count": 0,
          "min": "0",
          "max": "17",
          "histogram": [
           {
            "bin_start": 0,
            "bin_end": 1.7,
            "count": 61
           },
           {
            "bin_start": 1.7,
            "bin_end": 3.4,
            "count": 2486
           },
           {
            "bin_start": 3.4,
            "bin_end": 5.1,
            "count": 5896
           },
           {
            "bin_start": 5.1,
            "bin_end": 6.8,
            "count": 1555
           },
           {
            "bin_start": 6.8,
            "bin_end": 8.5,
            "count": 2052
           },
           {
            "bin_start": 8.5,
            "bin_end": 10.2,
            "count": 838
           },
           {
            "bin_start": 10.2,
            "bin_end": 11.9,
            "count": 103
           },
           {
            "bin_start": 11.9,
            "bin_end": 13.6,
            "count": 117
           },
           {
            "bin_start": 13.6,
            "bin_end": 15.299999999999999,
            "count": 20
           },
           {
            "bin_start": 15.299999999999999,
            "bin_end": 17,
            "count": 4
           }
          ]
         }
        },
        {
         "name": "game_score_delta",
         "dtype": "int64",
         "stats": {
          "unique_count": 28,
          "nan_count": 0,
          "min": "-14",
          "max": "14",
          "histogram": [
           {
            "bin_start": -14,
            "bin_end": -11.2,
            "count": 4
           },
           {
            "bin_start": -11.2,
            "bin_end": -8.4,
            "count": 20
           },
           {
            "bin_start": -8.4,
            "bin_end": -5.600000000000001,
            "count": 149
           },
           {
            "bin_start": -5.600000000000001,
            "bin_end": -2.8000000000000007,
            "count": 932
           },
           {
            "bin_start": -2.8000000000000007,
            "bin_end": 0,
            "count": 3078
           },
           {
            "bin_start": 0,
            "bin_end": 2.799999999999997,
            "count": 7688
           },
           {
            "bin_start": 2.799999999999997,
            "bin_end": 5.599999999999998,
            "count": 1043
           },
           {
            "bin_start": 5.599999999999998,
            "bin_end": 8.399999999999999,
            "count": 179
           },
           {
            "bin_start": 8.399999999999999,
            "bin_end": 11.2,
            "count": 34
           },
           {
            "bin_start": 11.2,
            "bin_end": 14,
            "count": 5
           }
          ]
         }
        },
        {
         "name": "game",
         "dtype": "int64",
         "stats": {
          "unique_count": 9,
          "nan_count": 0,
          "min": "1",
          "max": "10",
          "histogram": [
           {
            "bin_start": 1,
            "bin_end": 1.9,
            "count": 2618
           },
           {
            "bin_start": 1.9,
            "bin_end": 2.8,
            "count": 3302
           },
           {
            "bin_start": 2.8,
            "bin_end": 3.7,
            "count": 1914
           },
           {
            "bin_start": 3.7,
            "bin_end": 4.6,
            "count": 0
           },
           {
            "bin_start": 4.6,
            "bin_end": 5.5,
            "count": 427
           },
           {
            "bin_start": 5.5,
            "bin_end": 6.4,
            "count": 521
           },
           {
            "bin_start": 6.4,
            "bin_end": 7.3,
            "count": 1003
           },
           {
            "bin_start": 7.3,
            "bin_end": 8.2,
            "count": 905
           },
           {
            "bin_start": 8.2,
            "bin_end": 9.1,
            "count": 1611
           },
           {
            "bin_start": 9.1,
            "bin_end": 10,
            "count": 831
           }
          ]
         }
        },
        {
         "name": "speakers_austria",
         "dtype": "uint8"
        },
        {
         "name": "speakers_england",
         "dtype": "uint8"
        },
        {
         "name": "speakers_france",
         "dtype": "uint8"
        },
        {
         "name": "speakers_germany",
         "dtype": "uint8"
        },
        {
         "name": "speakers_italy",
         "dtype": "uint8"
        },
        {
         "name": "speakers_russia",
         "dtype": "uint8"
        },
        {
         "name": "speakers_turkey",
         "dtype": "uint8"
        },
        {
         "name": "receivers_austria",
         "dtype": "uint8"
        },
        {
         "name": "receivers_england",
         "dtype": "uint8"
        },
        {
         "name": "receivers_france",
         "dtype": "uint8"
        },
        {
         "name": "receivers_germany",
         "dtype": "uint8"
        },
        {
         "name": "receivers_italy",
         "dtype": "uint8"
        },
        {
         "name": "receivers_russia",
         "dtype": "uint8"
        },
        {
         "name": "receivers_turkey",
         "dtype": "uint8"
        },
        {
         "name": "seasons_Fall",
         "dtype": "uint8"
        },
        {
         "name": "seasons_Spring",
         "dtype": "uint8"
        },
        {
         "name": "seasons_Winter",
         "dtype": "uint8"
        },
        {
         "name": "receiver_labels_False",
         "dtype": "uint8"
        },
        {
         "name": "receiver_labels_NOANNOTATION",
         "dtype": "uint8"
        },
        {
         "name": "receiver_labels_True",
         "dtype": "uint8"
        },
        {
         "name": 0,
         "dtype": "float64"
        },
        {
         "name": 1,
         "dtype": "float64"
        },
        {
         "name": 2,
         "dtype": "float64"
        },
        {
         "name": 3,
         "dtype": "float64"
        },
        {
         "name": 4,
         "dtype": "float64"
        },
        {
         "name": 5,
         "dtype": "float64"
        },
        {
         "name": 6,
         "dtype": "float64"
        },
        {
         "name": 7,
         "dtype": "float64"
        },
        {
         "name": 8,
         "dtype": "float64"
        },
        {
         "name": 9,
         "dtype": "float64"
        },
        {
         "name": 10,
         "dtype": "float64"
        },
        {
         "name": 11,
         "dtype": "float64"
        },
        {
         "name": 12,
         "dtype": "float64"
        },
        {
         "name": 13,
         "dtype": "float64"
        },
        {
         "name": 14,
         "dtype": "float64"
        },
        {
         "name": 15,
         "dtype": "float64"
        },
        {
         "name": 16,
         "dtype": "float64"
        },
        {
         "name": 17,
         "dtype": "float64"
        },
        {
         "name": 18,
         "dtype": "float64"
        },
        {
         "name": 19,
         "dtype": "float64"
        },
        {
         "name": 20,
         "dtype": "float64"
        },
        {
         "name": 21,
         "dtype": "float64"
        },
        {
         "name": 22,
         "dtype": "float64"
        },
        {
         "name": 23,
         "dtype": "float64"
        },
        {
         "name": 24,
         "dtype": "float64"
        },
        {
         "name": 25,
         "dtype": "float64"
        },
        {
         "name": 26,
         "dtype": "float64"
        },
        {
         "name": 27,
         "dtype": "float64"
        },
        {
         "name": 28,
         "dtype": "float64"
        },
        {
         "name": 29,
         "dtype": "float64"
        },
        {
         "name": 30,
         "dtype": "float64"
        },
        {
         "name": 31,
         "dtype": "float64"
        },
        {
         "name": 32,
         "dtype": "float64"
        },
        {
         "name": 33,
         "dtype": "float64"
        },
        {
         "name": 34,
         "dtype": "float64"
        },
        {
         "name": 35,
         "dtype": "float64"
        },
        {
         "name": 36,
         "dtype": "float64"
        },
        {
         "name": 37,
         "dtype": "float64"
        },
        {
         "name": 38,
         "dtype": "float64"
        },
        {
         "name": 39,
         "dtype": "float64"
        },
        {
         "name": 40,
         "dtype": "float64"
        },
        {
         "name": 41,
         "dtype": "float64"
        },
        {
         "name": 42,
         "dtype": "float64"
        },
        {
         "name": 43,
         "dtype": "float64"
        },
        {
         "name": 44,
         "dtype": "float64"
        },
        {
         "name": 45,
         "dtype": "float64"
        },
        {
         "name": 46,
         "dtype": "float64"
        },
        {
         "name": 47,
         "dtype": "float64"
        },
        {
         "name": 48,
         "dtype": "float64"
        },
        {
         "name": 49,
         "dtype": "float64"
        },
        {
         "name": 50,
         "dtype": "float64"
        },
        {
         "name": 51,
         "dtype": "float64"
        },
        {
         "name": 52,
         "dtype": "float64"
        },
        {
         "name": 53,
         "dtype": "float64"
        },
        {
         "name": 54,
         "dtype": "float64"
        },
        {
         "name": 55,
         "dtype": "float64"
        },
        {
         "name": 56,
         "dtype": "float64"
        },
        {
         "name": 57,
         "dtype": "float64"
        },
        {
         "name": 58,
         "dtype": "float64"
        },
        {
         "name": 59,
         "dtype": "float64"
        },
        {
         "name": 60,
         "dtype": "float64"
        },
        {
         "name": 61,
         "dtype": "float64"
        },
        {
         "name": 62,
         "dtype": "float64"
        },
        {
         "name": 63,
         "dtype": "float64"
        },
        {
         "name": 64,
         "dtype": "float64"
        },
        {
         "name": 65,
         "dtype": "float64"
        },
        {
         "name": 66,
         "dtype": "float64"
        },
        {
         "name": 67,
         "dtype": "float64"
        },
        {
         "name": 68,
         "dtype": "float64"
        },
        {
         "name": 69,
         "dtype": "float64"
        },
        {
         "name": 70,
         "dtype": "float64"
        },
        {
         "name": 71,
         "dtype": "float64"
        },
        {
         "name": 72,
         "dtype": "float64"
        },
        {
         "name": 73,
         "dtype": "float64"
        },
        {
         "name": 74,
         "dtype": "float64"
        },
        {
         "name": 75,
         "dtype": "float64"
        },
        {
         "name": 76,
         "dtype": "float64"
        },
        {
         "name": 77,
         "dtype": "float64"
        },
        {
         "name": 78,
         "dtype": "float64"
        },
        {
         "name": 79,
         "dtype": "float64"
        },
        {
         "name": 80,
         "dtype": "float64"
        },
        {
         "name": 81,
         "dtype": "float64"
        },
        {
         "name": 82,
         "dtype": "float64"
        },
        {
         "name": 83,
         "dtype": "float64"
        },
        {
         "name": 84,
         "dtype": "float64"
        },
        {
         "name": 85,
         "dtype": "float64"
        },
        {
         "name": 86,
         "dtype": "float64"
        },
        {
         "name": 87,
         "dtype": "float64"
        },
        {
         "name": 88,
         "dtype": "float64"
        },
        {
         "name": 89,
         "dtype": "float64"
        },
        {
         "name": 90,
         "dtype": "float64"
        },
        {
         "name": 91,
         "dtype": "float64"
        },
        {
         "name": 92,
         "dtype": "float64"
        },
        {
         "name": 93,
         "dtype": "float64"
        },
        {
         "name": 94,
         "dtype": "float64"
        },
        {
         "name": 95,
         "dtype": "float64"
        },
        {
         "name": 96,
         "dtype": "float64"
        },
        {
         "name": 97,
         "dtype": "float64"
        },
        {
         "name": 98,
         "dtype": "float64"
        },
        {
         "name": 99,
         "dtype": "float64"
        },
        {
         "name": 100,
         "dtype": "float64"
        },
        {
         "name": 101,
         "dtype": "float64"
        },
        {
         "name": 102,
         "dtype": "float64"
        },
        {
         "name": 103,
         "dtype": "float64"
        },
        {
         "name": 104,
         "dtype": "float64"
        },
        {
         "name": 105,
         "dtype": "float64"
        },
        {
         "name": 106,
         "dtype": "float64"
        },
        {
         "name": 107,
         "dtype": "float64"
        },
        {
         "name": 108,
         "dtype": "float64"
        },
        {
         "name": 109,
         "dtype": "float64"
        },
        {
         "name": 110,
         "dtype": "float64"
        },
        {
         "name": 111,
         "dtype": "float64"
        },
        {
         "name": 112,
         "dtype": "float64"
        },
        {
         "name": 113,
         "dtype": "float64"
        },
        {
         "name": 114,
         "dtype": "float64"
        },
        {
         "name": 115,
         "dtype": "float64"
        },
        {
         "name": 116,
         "dtype": "float64"
        },
        {
         "name": 117,
         "dtype": "float64"
        },
        {
         "name": 118,
         "dtype": "float64"
        },
        {
         "name": 119,
         "dtype": "float64"
        },
        {
         "name": 120,
         "dtype": "float64"
        },
        {
         "name": 121,
         "dtype": "float64"
        },
        {
         "name": 122,
         "dtype": "float64"
        },
        {
         "name": 123,
         "dtype": "float64"
        },
        {
         "name": 124,
         "dtype": "float64"
        },
        {
         "name": 125,
         "dtype": "float64"
        },
        {
         "name": 126,
         "dtype": "float64"
        },
        {
         "name": 127,
         "dtype": "float64"
        },
        {
         "name": 128,
         "dtype": "float64"
        },
        {
         "name": 129,
         "dtype": "float64"
        },
        {
         "name": 130,
         "dtype": "float64"
        },
        {
         "name": 131,
         "dtype": "float64"
        },
        {
         "name": 132,
         "dtype": "float64"
        },
        {
         "name": 133,
         "dtype": "float64"
        },
        {
         "name": 134,
         "dtype": "float64"
        },
        {
         "name": 135,
         "dtype": "float64"
        },
        {
         "name": 136,
         "dtype": "float64"
        },
        {
         "name": 137,
         "dtype": "float64"
        },
        {
         "name": 138,
         "dtype": "float64"
        },
        {
         "name": 139,
         "dtype": "float64"
        },
        {
         "name": 140,
         "dtype": "float64"
        },
        {
         "name": 141,
         "dtype": "float64"
        },
        {
         "name": 142,
         "dtype": "float64"
        },
        {
         "name": 143,
         "dtype": "float64"
        },
        {
         "name": 144,
         "dtype": "float64"
        },
        {
         "name": 145,
         "dtype": "float64"
        },
        {
         "name": 146,
         "dtype": "float64"
        },
        {
         "name": 147,
         "dtype": "float64"
        },
        {
         "name": 148,
         "dtype": "float64"
        },
        {
         "name": 149,
         "dtype": "float64"
        },
        {
         "name": 150,
         "dtype": "float64"
        },
        {
         "name": 151,
         "dtype": "float64"
        },
        {
         "name": 152,
         "dtype": "float64"
        },
        {
         "name": 153,
         "dtype": "float64"
        },
        {
         "name": 154,
         "dtype": "float64"
        },
        {
         "name": 155,
         "dtype": "float64"
        },
        {
         "name": 156,
         "dtype": "float64"
        },
        {
         "name": 157,
         "dtype": "float64"
        },
        {
         "name": 158,
         "dtype": "float64"
        },
        {
         "name": 159,
         "dtype": "float64"
        },
        {
         "name": 160,
         "dtype": "float64"
        },
        {
         "name": 161,
         "dtype": "float64"
        },
        {
         "name": 162,
         "dtype": "float64"
        },
        {
         "name": 163,
         "dtype": "float64"
        },
        {
         "name": 164,
         "dtype": "float64"
        },
        {
         "name": 165,
         "dtype": "float64"
        },
        {
         "name": 166,
         "dtype": "float64"
        },
        {
         "name": 167,
         "dtype": "float64"
        },
        {
         "name": 168,
         "dtype": "float64"
        },
        {
         "name": 169,
         "dtype": "float64"
        },
        {
         "name": 170,
         "dtype": "float64"
        },
        {
         "name": 171,
         "dtype": "float64"
        },
        {
         "name": 172,
         "dtype": "float64"
        },
        {
         "name": 173,
         "dtype": "float64"
        },
        {
         "name": 174,
         "dtype": "float64"
        },
        {
         "name": 175,
         "dtype": "float64"
        },
        {
         "name": 176,
         "dtype": "float64"
        },
        {
         "name": 177,
         "dtype": "float64"
        },
        {
         "name": 178,
         "dtype": "float64"
        },
        {
         "name": 179,
         "dtype": "float64"
        },
        {
         "name": 180,
         "dtype": "float64"
        },
        {
         "name": 181,
         "dtype": "float64"
        },
        {
         "name": 182,
         "dtype": "float64"
        },
        {
         "name": 183,
         "dtype": "float64"
        },
        {
         "name": 184,
         "dtype": "float64"
        },
        {
         "name": 185,
         "dtype": "float64"
        },
        {
         "name": 186,
         "dtype": "float64"
        },
        {
         "name": 187,
         "dtype": "float64"
        },
        {
         "name": 188,
         "dtype": "float64"
        },
        {
         "name": 189,
         "dtype": "float64"
        },
        {
         "name": 190,
         "dtype": "float64"
        },
        {
         "name": 191,
         "dtype": "float64"
        },
        {
         "name": 192,
         "dtype": "float64"
        },
        {
         "name": 193,
         "dtype": "float64"
        },
        {
         "name": 194,
         "dtype": "float64"
        },
        {
         "name": 195,
         "dtype": "float64"
        },
        {
         "name": 196,
         "dtype": "float64"
        },
        {
         "name": 197,
         "dtype": "float64"
        },
        {
         "name": 198,
         "dtype": "float64"
        },
        {
         "name": 199,
         "dtype": "float64"
        },
        {
         "name": 200,
         "dtype": "float64"
        },
        {
         "name": 201,
         "dtype": "float64"
        },
        {
         "name": 202,
         "dtype": "float64"
        },
        {
         "name": 203,
         "dtype": "float64"
        },
        {
         "name": 204,
         "dtype": "float64"
        },
        {
         "name": 205,
         "dtype": "float64"
        },
        {
         "name": 206,
         "dtype": "float64"
        },
        {
         "name": 207,
         "dtype": "float64"
        },
        {
         "name": 208,
         "dtype": "float64"
        },
        {
         "name": 209,
         "dtype": "float64"
        },
        {
         "name": 210,
         "dtype": "float64"
        },
        {
         "name": 211,
         "dtype": "float64"
        },
        {
         "name": 212,
         "dtype": "float64"
        },
        {
         "name": 213,
         "dtype": "float64"
        },
        {
         "name": 214,
         "dtype": "float64"
        },
        {
         "name": 215,
         "dtype": "float64"
        },
        {
         "name": 216,
         "dtype": "float64"
        },
        {
         "name": 217,
         "dtype": "float64"
        },
        {
         "name": 218,
         "dtype": "float64"
        },
        {
         "name": 219,
         "dtype": "float64"
        },
        {
         "name": 220,
         "dtype": "float64"
        },
        {
         "name": 221,
         "dtype": "float64"
        },
        {
         "name": 222,
         "dtype": "float64"
        },
        {
         "name": 223,
         "dtype": "float64"
        },
        {
         "name": 224,
         "dtype": "float64"
        },
        {
         "name": 225,
         "dtype": "float64"
        },
        {
         "name": 226,
         "dtype": "float64"
        },
        {
         "name": 227,
         "dtype": "float64"
        },
        {
         "name": 228,
         "dtype": "float64"
        },
        {
         "name": 229,
         "dtype": "float64"
        },
        {
         "name": 230,
         "dtype": "float64"
        },
        {
         "name": 231,
         "dtype": "float64"
        },
        {
         "name": 232,
         "dtype": "float64"
        },
        {
         "name": 233,
         "dtype": "float64"
        },
        {
         "name": 234,
         "dtype": "float64"
        },
        {
         "name": 235,
         "dtype": "float64"
        },
        {
         "name": 236,
         "dtype": "float64"
        },
        {
         "name": 237,
         "dtype": "float64"
        },
        {
         "name": 238,
         "dtype": "float64"
        },
        {
         "name": 239,
         "dtype": "float64"
        },
        {
         "name": 240,
         "dtype": "float64"
        },
        {
         "name": 241,
         "dtype": "float64"
        },
        {
         "name": 242,
         "dtype": "float64"
        },
        {
         "name": 243,
         "dtype": "float64"
        },
        {
         "name": 244,
         "dtype": "float64"
        },
        {
         "name": 245,
         "dtype": "float64"
        },
        {
         "name": 246,
         "dtype": "float64"
        },
        {
         "name": 247,
         "dtype": "float64"
        },
        {
         "name": 248,
         "dtype": "float64"
        },
        {
         "name": 249,
         "dtype": "float64"
        },
        {
         "name": 250,
         "dtype": "float64"
        },
        {
         "name": 251,
         "dtype": "float64"
        },
        {
         "name": 252,
         "dtype": "float64"
        },
        {
         "name": 253,
         "dtype": "float64"
        },
        {
         "name": 254,
         "dtype": "float64"
        },
        {
         "name": 255,
         "dtype": "float64"
        },
        {
         "name": 256,
         "dtype": "float64"
        },
        {
         "name": 257,
         "dtype": "float64"
        },
        {
         "name": 258,
         "dtype": "float64"
        },
        {
         "name": 259,
         "dtype": "float64"
        },
        {
         "name": 260,
         "dtype": "float64"
        },
        {
         "name": 261,
         "dtype": "float64"
        },
        {
         "name": 262,
         "dtype": "float64"
        },
        {
         "name": 263,
         "dtype": "float64"
        },
        {
         "name": 264,
         "dtype": "float64"
        },
        {
         "name": 265,
         "dtype": "float64"
        },
        {
         "name": 266,
         "dtype": "float64"
        },
        {
         "name": 267,
         "dtype": "float64"
        },
        {
         "name": 268,
         "dtype": "float64"
        },
        {
         "name": 269,
         "dtype": "float64"
        },
        {
         "name": 270,
         "dtype": "float64"
        },
        {
         "name": 271,
         "dtype": "float64"
        },
        {
         "name": 272,
         "dtype": "float64"
        },
        {
         "name": 273,
         "dtype": "float64"
        },
        {
         "name": 274,
         "dtype": "float64"
        },
        {
         "name": 275,
         "dtype": "float64"
        },
        {
         "name": 276,
         "dtype": "float64"
        },
        {
         "name": 277,
         "dtype": "float64"
        },
        {
         "name": 278,
         "dtype": "float64"
        },
        {
         "name": 279,
         "dtype": "float64"
        },
        {
         "name": 280,
         "dtype": "float64"
        },
        {
         "name": 281,
         "dtype": "float64"
        },
        {
         "name": 282,
         "dtype": "float64"
        },
        {
         "name": 283,
         "dtype": "float64"
        },
        {
         "name": 284,
         "dtype": "float64"
        },
        {
         "name": 285,
         "dtype": "float64"
        },
        {
         "name": 286,
         "dtype": "float64"
        },
        {
         "name": 287,
         "dtype": "float64"
        },
        {
         "name": 288,
         "dtype": "float64"
        },
        {
         "name": 289,
         "dtype": "float64"
        },
        {
         "name": 290,
         "dtype": "float64"
        },
        {
         "name": 291,
         "dtype": "float64"
        },
        {
         "name": 292,
         "dtype": "float64"
        },
        {
         "name": 293,
         "dtype": "float64"
        },
        {
         "name": 294,
         "dtype": "float64"
        },
        {
         "name": 295,
         "dtype": "float64"
        },
        {
         "name": 296,
         "dtype": "float64"
        },
        {
         "name": 297,
         "dtype": "float64"
        },
        {
         "name": 298,
         "dtype": "float64"
        },
        {
         "name": 299,
         "dtype": "float64"
        },
        {
         "name": 300,
         "dtype": "float64"
        },
        {
         "name": 301,
         "dtype": "float64"
        },
        {
         "name": 302,
         "dtype": "float64"
        },
        {
         "name": 303,
         "dtype": "float64"
        },
        {
         "name": 304,
         "dtype": "float64"
        },
        {
         "name": 305,
         "dtype": "float64"
        },
        {
         "name": 306,
         "dtype": "float64"
        },
        {
         "name": 307,
         "dtype": "float64"
        },
        {
         "name": 308,
         "dtype": "float64"
        },
        {
         "name": 309,
         "dtype": "float64"
        },
        {
         "name": 310,
         "dtype": "float64"
        },
        {
         "name": 311,
         "dtype": "float64"
        },
        {
         "name": 312,
         "dtype": "float64"
        },
        {
         "name": 313,
         "dtype": "float64"
        },
        {
         "name": 314,
         "dtype": "float64"
        },
        {
         "name": 315,
         "dtype": "float64"
        },
        {
         "name": 316,
         "dtype": "float64"
        },
        {
         "name": 317,
         "dtype": "float64"
        },
        {
         "name": 318,
         "dtype": "float64"
        },
        {
         "name": 319,
         "dtype": "float64"
        },
        {
         "name": 320,
         "dtype": "float64"
        },
        {
         "name": 321,
         "dtype": "float64"
        },
        {
         "name": 322,
         "dtype": "float64"
        },
        {
         "name": 323,
         "dtype": "float64"
        },
        {
         "name": 324,
         "dtype": "float64"
        },
        {
         "name": 325,
         "dtype": "float64"
        },
        {
         "name": 326,
         "dtype": "float64"
        },
        {
         "name": 327,
         "dtype": "float64"
        },
        {
         "name": 328,
         "dtype": "float64"
        },
        {
         "name": 329,
         "dtype": "float64"
        },
        {
         "name": 330,
         "dtype": "float64"
        },
        {
         "name": 331,
         "dtype": "float64"
        },
        {
         "name": 332,
         "dtype": "float64"
        },
        {
         "name": 333,
         "dtype": "float64"
        },
        {
         "name": 334,
         "dtype": "float64"
        },
        {
         "name": 335,
         "dtype": "float64"
        },
        {
         "name": 336,
         "dtype": "float64"
        },
        {
         "name": 337,
         "dtype": "float64"
        },
        {
         "name": 338,
         "dtype": "float64"
        },
        {
         "name": 339,
         "dtype": "float64"
        },
        {
         "name": 340,
         "dtype": "float64"
        },
        {
         "name": 341,
         "dtype": "float64"
        },
        {
         "name": 342,
         "dtype": "float64"
        },
        {
         "name": 343,
         "dtype": "float64"
        },
        {
         "name": 344,
         "dtype": "float64"
        },
        {
         "name": 345,
         "dtype": "float64"
        },
        {
         "name": 346,
         "dtype": "float64"
        },
        {
         "name": 347,
         "dtype": "float64"
        },
        {
         "name": 348,
         "dtype": "float64"
        },
        {
         "name": 349,
         "dtype": "float64"
        },
        {
         "name": 350,
         "dtype": "float64"
        },
        {
         "name": 351,
         "dtype": "float64"
        },
        {
         "name": 352,
         "dtype": "float64"
        },
        {
         "name": 353,
         "dtype": "float64"
        },
        {
         "name": 354,
         "dtype": "float64"
        },
        {
         "name": 355,
         "dtype": "float64"
        },
        {
         "name": 356,
         "dtype": "float64"
        },
        {
         "name": 357,
         "dtype": "float64"
        },
        {
         "name": 358,
         "dtype": "float64"
        },
        {
         "name": 359,
         "dtype": "float64"
        },
        {
         "name": 360,
         "dtype": "float64"
        },
        {
         "name": 361,
         "dtype": "float64"
        },
        {
         "name": 362,
         "dtype": "float64"
        },
        {
         "name": 363,
         "dtype": "float64"
        },
        {
         "name": 364,
         "dtype": "float64"
        },
        {
         "name": 365,
         "dtype": "float64"
        },
        {
         "name": 366,
         "dtype": "float64"
        },
        {
         "name": 367,
         "dtype": "float64"
        },
        {
         "name": 368,
         "dtype": "float64"
        },
        {
         "name": 369,
         "dtype": "float64"
        },
        {
         "name": 370,
         "dtype": "float64"
        },
        {
         "name": 371,
         "dtype": "float64"
        },
        {
         "name": 372,
         "dtype": "float64"
        },
        {
         "name": 373,
         "dtype": "float64"
        },
        {
         "name": 374,
         "dtype": "float64"
        },
        {
         "name": 375,
         "dtype": "float64"
        },
        {
         "name": 376,
         "dtype": "float64"
        },
        {
         "name": 377,
         "dtype": "float64"
        },
        {
         "name": 378,
         "dtype": "float64"
        },
        {
         "name": 379,
         "dtype": "float64"
        },
        {
         "name": 380,
         "dtype": "float64"
        },
        {
         "name": 381,
         "dtype": "float64"
        },
        {
         "name": 382,
         "dtype": "float64"
        },
        {
         "name": 383,
         "dtype": "float64"
        },
        {
         "name": 384,
         "dtype": "float64"
        },
        {
         "name": 385,
         "dtype": "float64"
        },
        {
         "name": 386,
         "dtype": "float64"
        },
        {
         "name": 387,
         "dtype": "float64"
        },
        {
         "name": 388,
         "dtype": "float64"
        },
        {
         "name": 389,
         "dtype": "float64"
        },
        {
         "name": 390,
         "dtype": "float64"
        },
        {
         "name": 391,
         "dtype": "float64"
        },
        {
         "name": 392,
         "dtype": "float64"
        },
        {
         "name": 393,
         "dtype": "float64"
        },
        {
         "name": 394,
         "dtype": "float64"
        },
        {
         "name": 395,
         "dtype": "float64"
        },
        {
         "name": 396,
         "dtype": "float64"
        },
        {
         "name": 397,
         "dtype": "float64"
        },
        {
         "name": 398,
         "dtype": "float64"
        },
        {
         "name": 399,
         "dtype": "float64"
        },
        {
         "name": 400,
         "dtype": "float64"
        },
        {
         "name": 401,
         "dtype": "float64"
        },
        {
         "name": 402,
         "dtype": "float64"
        },
        {
         "name": 403,
         "dtype": "float64"
        },
        {
         "name": 404,
         "dtype": "float64"
        },
        {
         "name": 405,
         "dtype": "float64"
        },
        {
         "name": 406,
         "dtype": "float64"
        },
        {
         "name": 407,
         "dtype": "float64"
        },
        {
         "name": 408,
         "dtype": "float64"
        },
        {
         "name": 409,
         "dtype": "float64"
        },
        {
         "name": 410,
         "dtype": "float64"
        },
        {
         "name": 411,
         "dtype": "float64"
        },
        {
         "name": 412,
         "dtype": "float64"
        },
        {
         "name": 413,
         "dtype": "float64"
        },
        {
         "name": 414,
         "dtype": "float64"
        },
        {
         "name": 415,
         "dtype": "float64"
        },
        {
         "name": 416,
         "dtype": "float64"
        },
        {
         "name": 417,
         "dtype": "float64"
        },
        {
         "name": 418,
         "dtype": "float64"
        },
        {
         "name": 419,
         "dtype": "float64"
        },
        {
         "name": 420,
         "dtype": "float64"
        },
        {
         "name": 421,
         "dtype": "float64"
        },
        {
         "name": 422,
         "dtype": "float64"
        },
        {
         "name": 423,
         "dtype": "float64"
        },
        {
         "name": 424,
         "dtype": "float64"
        },
        {
         "name": 425,
         "dtype": "float64"
        },
        {
         "name": 426,
         "dtype": "float64"
        },
        {
         "name": 427,
         "dtype": "float64"
        },
        {
         "name": 428,
         "dtype": "float64"
        },
        {
         "name": 429,
         "dtype": "float64"
        },
        {
         "name": 430,
         "dtype": "float64"
        },
        {
         "name": 431,
         "dtype": "float64"
        },
        {
         "name": 432,
         "dtype": "float64"
        },
        {
         "name": 433,
         "dtype": "float64"
        },
        {
         "name": 434,
         "dtype": "float64"
        },
        {
         "name": 435,
         "dtype": "float64"
        },
        {
         "name": 436,
         "dtype": "float64"
        },
        {
         "name": 437,
         "dtype": "float64"
        },
        {
         "name": 438,
         "dtype": "float64"
        },
        {
         "name": 439,
         "dtype": "float64"
        },
        {
         "name": 440,
         "dtype": "float64"
        },
        {
         "name": 441,
         "dtype": "float64"
        },
        {
         "name": 442,
         "dtype": "float64"
        },
        {
         "name": 443,
         "dtype": "float64"
        },
        {
         "name": 444,
         "dtype": "float64"
        },
        {
         "name": 445,
         "dtype": "float64"
        },
        {
         "name": 446,
         "dtype": "float64"
        },
        {
         "name": 447,
         "dtype": "float64"
        },
        {
         "name": 448,
         "dtype": "float64"
        },
        {
         "name": 449,
         "dtype": "float64"
        },
        {
         "name": 450,
         "dtype": "float64"
        },
        {
         "name": 451,
         "dtype": "float64"
        },
        {
         "name": 452,
         "dtype": "float64"
        },
        {
         "name": 453,
         "dtype": "float64"
        },
        {
         "name": 454,
         "dtype": "float64"
        },
        {
         "name": 455,
         "dtype": "float64"
        },
        {
         "name": 456,
         "dtype": "float64"
        },
        {
         "name": 457,
         "dtype": "float64"
        },
        {
         "name": 458,
         "dtype": "float64"
        },
        {
         "name": 459,
         "dtype": "float64"
        },
        {
         "name": 460,
         "dtype": "float64"
        },
        {
         "name": 461,
         "dtype": "float64"
        },
        {
         "name": 462,
         "dtype": "float64"
        },
        {
         "name": 463,
         "dtype": "float64"
        },
        {
         "name": 464,
         "dtype": "float64"
        },
        {
         "name": 465,
         "dtype": "float64"
        },
        {
         "name": 466,
         "dtype": "float64"
        },
        {
         "name": 467,
         "dtype": "float64"
        },
        {
         "name": 468,
         "dtype": "float64"
        },
        {
         "name": 469,
         "dtype": "float64"
        },
        {
         "name": 470,
         "dtype": "float64"
        },
        {
         "name": 471,
         "dtype": "float64"
        },
        {
         "name": 472,
         "dtype": "float64"
        },
        {
         "name": "_deepnote_index_column",
         "dtype": "int64"
        }
       ],
       "rows_top": [
        {
         "0": 0,
         "1": 1.1240170906538225,
         "2": 2.0613186279551,
         "3": 0,
         "4": 0,
         "5": 0,
         "6": 0,
         "7": 0,
         "8": 0,
         "9": 0,
         "10": 0,
         "11": 0,
         "12": 1.9465631463359283,
         "13": 0,
         "14": 0,
         "15": 1.956029830631945,
         "16": 0,
         "17": 0,
         "18": 0,
         "19": 2.0959396769046412,
         "20": 0,
         "21": 3.6898534308304782,
         "22": 0,
         "23": 0,
         "24": 2.237477044930934,
         "25": 2.323267348703962,
         "26": 0,
         "27": 0,
         "28": 2.47332899611442,
         "29": 0,
         "30": 0,
         "31": 0,
         "32": 0,
         "33": 0,
         "34": 0,
         "35": 0,
         "36": 4.595270537315678,
         "37": 0,
         "38": 0,
         "39": 0,
         "40": 0,
         "41": 0,
         "42": 0,
         "43": 0,
         "44": 0,
         "45": 0,
         "46": 0,
         "47": 0,
         "48": 0,
         "49": 0,
         "50": 0,
         "51": 0,
         "52": 2.751915604444816,
         "53": 0,
         "54": 0,
         "55": 0,
         "56": 0,
         "57": 0,
         "58": 0,
         "59": 0,
         "60": 0,
         "61": 0,
         "62": 0,
         "63": 0,
         "64": 0,
         "65": 0,
         "66": 0,
         "67": 0,
         "68": 0,
         "69": 0,
         "70": 3.1069536296649023,
         "71": 0,
         "72": 0,
         "73": 0,
         "74": 0,
         "75": 0,
         "76": 3.196630215920881,
         "77": 0,
         "78": 0,
         "79": 3.2827305184990285,
         "80": 0,
         "81": 0,
         "82": 0,
         "83": 0,
         "84": 0,
         "85": 0,
         "86": 3.317199494145691,
         "87": 0,
         "88": 0,
         "89": 0,
         "90": 0,
         "91": 0,
         "92": 0,
         "93": 3.32307069197154,
         "94": 0,
         "95": 0,
         "96": 0,
         "97": 0,
         "98": 0,
         "99": 0,
         "100": 0,
         "101": 0,
         "102": 0,
         "103": 0,
         "104": 0,
         "105": 0,
         "106": 0,
         "107": 3.573723242377533,
         "108": 0,
         "109": 0,
         "110": 0,
         "111": 0,
         "112": 0,
         "113": 0,
         "114": 0,
         "115": 3.6156716911872544,
         "116": 6.149331146621074,
         "117": 0,
         "118": 0,
         "119": 0,
         "120": 0,
         "121": 0,
         "122": 0,
         "123": 0,
         "124": 0,
         "125": 0,
         "126": 0,
         "127": 0,
         "128": 0,
         "129": 0,
         "130": 0,
         "131": 0,
         "132": 0,
         "133": 0,
         "134": 0,
         "135": 0,
         "136": 0,
         "137": 3.8483605573029807,
         "138": 0,
         "139": 0,
         "140": 0,
         "141": 0,
         "142": 0,
         "143": 0,
         "144": 0,
         "145": 0,
         "146": 0,
         "147": 0,
         "148": 0,
         "149": 0,
         "150": 0,
         "151": 0,
         "152": 0,
         "153": 0,
         "154": 0,
         "155": 0,
         "156": 0,
         "157": 0,
         "158": 0,
         "159": 0,
         "160": 0,
         "161": 0,
         "162": 0,
         "163": 0,
         "164": 0,
         "165": 0,
         "166": 0,
         "167": 0,
         "168": 0,
         "169": 0,
         "170": 0,
         "171": 0,
         "172": 0,
         "173": 0,
         "174": 0,
         "175": 0,
         "176": 0,
         "177": 0,
         "178": 0,
         "179": 0,
         "180": 0,
         "181": 0,
         "182": 0,
         "183": 0,
         "184": 0,
         "185": 0,
         "186": 0,
         "187": 0,
         "188": 0,
         "189": 0,
         "190": 0,
         "191": 0,
         "192": 0,
         "193": 0,
         "194": 0,
         "195": 0,
         "196": 0,
         "197": 0,
         "198": 0,
         "199": 0,
         "200": 0,
         "201": 0,
         "202": 0,
         "203": 0,
         "204": 4.151564702551992,
         "205": 0,
         "206": 0,
         "207": 0,
         "208": 0,
         "209": 0,
         "210": 0,
         "211": 0,
         "212": 0,
         "213": 0,
         "214": 0,
         "215": 0,
         "216": 0,
         "217": 0,
         "218": 0,
         "219": 0,
         "220": 0,
         "221": 0,
         "222": 0,
         "223": 0,
         "224": 0,
         "225": 0,
         "226": 0,
         "227": 0,
         "228": 0,
         "229": 0,
         "230": 0,
         "231": 0,
         "232": 0,
         "233": 0,
         "234": 0,
         "235": 0,
         "236": 0,
         "237": 0,
         "238": 0,
         "239": 0,
         "240": 0,
         "241": 0,
         "242": 0,
         "243": 0,
         "244": 0,
         "245": 0,
         "246": 0,
         "247": 0,
         "248": 0,
         "249": 0,
         "250": 0,
         "251": 0,
         "252": 0,
         "253": 0,
         "254": 0,
         "255": 0,
         "256": 0,
         "257": 0,
         "258": 0,
         "259": 0,
         "260": 0,
         "261": 0,
         "262": 0,
         "263": 0,
         "264": 0,
         "265": 0,
         "266": 0,
         "267": 0,
         "268": 0,
         "269": 0,
         "270": 0,
         "271": 0,
         "272": 0,
         "273": 0,
         "274": 0,
         "275": 0,
         "276": 0,
         "277": 0,
         "278": 0,
         "279": 0,
         "280": 0,
         "281": 0,
         "282": 0,
         "283": 0,
         "284": 0,
         "285": 0,
         "286": 0,
         "287": 0,
         "288": 0,
         "289": 0,
         "290": 0,
         "291": 0,
         "292": 0,
         "293": 0,
         "294": 0,
         "295": 0,
         "296": 0,
         "297": 0,
         "298": 0,
         "299": 0,
         "300": 0,
         "301": 0,
         "302": 0,
         "303": 0,
         "304": 0,
         "305": 0,
         "306": 0,
         "307": 0,
         "308": 0,
         "309": 0,
         "310": 0,
         "311": 0,
         "312": 0,
         "313": 0,
         "314": 0,
         "315": 0,
         "316": 0,
         "317": 0,
         "318": 0,
         "319": 0,
         "320": 0,
         "321": 0,
         "322": 0,
         "323": 0,
         "324": 0,
         "325": 0,
         "326": 0,
         "327": 0,
         "328": 0,
         "329": 0,
         "330": 0,
         "331": 0,
         "332": 0,
         "333": 0,
         "334": 0,
         "335": 0,
         "336": 0,
         "337": 0,
         "338": 0,
         "339": 0,
         "340": 0,
         "341": 0,
         "342": 0,
         "343": 0,
         "344": 0,
         "345": 0,
         "346": 0,
         "347": 0,
         "348": 0,
         "349": 0,
         "350": 0,
         "351": 0,
         "352": 0,
         "353": 0,
         "354": 0,
         "355": 0,
         "356": 0,
         "357": 0,
         "358": 0,
         "359": 0,
         "360": 0,
         "361": 0,
         "362": 0,
         "363": 0,
         "364": 0,
         "365": 0,
         "366": 0,
         "367": 0,
         "368": 0,
         "369": 0,
         "370": 0,
         "371": 0,
         "372": 0,
         "373": 0,
         "374": 0,
         "375": 0,
         "376": 0,
         "377": 0,
         "378": 0,
         "379": 0,
         "380": 0,
         "381": 0,
         "382": 0,
         "383": 0,
         "384": 0,
         "385": 0,
         "386": 0,
         "387": 0,
         "388": 0,
         "389": 0,
         "390": 4.90527477843843,
         "391": 0,
         "392": 0,
         "393": 0,
         "394": 0,
         "395": 0,
         "396": 0,
         "397": 0,
         "398": 0,
         "399": 4.925742882633847,
         "400": 0,
         "401": 0,
         "402": 0,
         "403": 0,
         "404": 0,
         "405": 0,
         "406": 0,
         "407": 0,
         "408": 0,
         "409": 0,
         "410": 0,
         "411": 0,
         "412": 0,
         "413": 4.989827717563259,
         "414": 0,
         "415": 0,
         "416": 0,
         "417": 0,
         "418": 0,
         "419": 0,
         "420": 0,
         "421": 0,
         "422": 0,
         "423": 0,
         "424": 0,
         "425": 5.000925383777957,
         "426": 0,
         "427": 0,
         "428": 0,
         "429": 0,
         "430": 0,
         "431": 0,
         "432": 0,
         "433": 0,
         "434": 0,
         "435": 0,
         "436": 0,
         "437": 0,
         "438": 0,
         "439": 0,
         "440": 0,
         "441": 0,
         "442": 0,
         "443": 0,
         "444": 0,
         "445": 0,
         "446": 0,
         "447": 0,
         "448": 0,
         "449": 0,
         "450": 0,
         "451": 0,
         "452": 0,
         "453": 0,
         "454": 0,
         "455": 0,
         "456": 0,
         "457": 0,
         "458": 0,
         "459": 0,
         "460": 0,
         "461": 0,
         "462": 5.094507317741778,
         "463": 0,
         "464": 0,
         "465": 0,
         "466": 0,
         "467": 0,
         "468": 0,
         "469": 0,
         "470": 0,
         "471": 0,
         "472": 0,
         "class": 1,
         "absolute_message_index": 0,
         "relative_message_index": 0,
         "years": 1901,
         "game_score": 3,
         "game_score_delta": 0,
         "game": 1,
         "speakers_austria": 1,
         "speakers_england": 0,
         "speakers_france": 0,
         "speakers_germany": 0,
         "speakers_italy": 0,
         "speakers_russia": 0,
         "speakers_turkey": 0,
         "receivers_austria": 0,
         "receivers_england": 0,
         "receivers_france": 0,
         "receivers_germany": 0,
         "receivers_italy": 0,
         "receivers_russia": 0,
         "receivers_turkey": 1,
         "seasons_Fall": 0,
         "seasons_Spring": 1,
         "seasons_Winter": 0,
         "receiver_labels_False": 0,
         "receiver_labels_NOANNOTATION": 0,
         "receiver_labels_True": 1,
         "_deepnote_index_column": 0
        }
       ],
       "rows_bottom": [
        {
         "0": 0,
         "1": 1.1240170906538225,
         "2": 0,
         "3": 0,
         "4": 0,
         "5": 0,
         "6": 0,
         "7": 0,
         "8": 0,
         "9": 1.8538220906255043,
         "10": 0,
         "11": 0,
         "12": 0,
         "13": 0,
         "14": 0,
         "15": 0,
         "16": 0,
         "17": 0,
         "18": 0,
         "19": 0,
         "20": 0,
         "21": 0,
         "22": 0,
         "23": 0,
         "24": 0,
         "25": 0,
         "26": 0,
         "27": 0,
         "28": 0,
         "29": 0,
         "30": 0,
         "31": 0,
         "32": 0,
         "33": 0,
         "34": 0,
         "35": 0,
         "36": 0,
         "37": 0,
         "38": 0,
         "39": 0,
         "40": 0,
         "41": 0,
         "42": 0,
         "43": 0,
         "44": 0,
         "45": 2.809173724870069,
         "46": 0,
         "47": 0,
         "48": 0,
         "49": 0,
         "50": 0,
         "51": 0,
         "52": 0,
         "53": 0,
         "54": 0,
         "55": 0,
         "56": 0,
         "57": 0,
         "58": 0,
         "59": 0,
         "60": 0,
         "61": 0,
         "62": 0,
         "63": 0,
         "64": 0,
         "65": 0,
         "66": 0,
         "67": 0,
         "68": 0,
         "69": 0,
         "70": 0,
         "71": 0,
         "72": 0,
         "73": 0,
         "74": 0,
         "75": 0,
         "76": 0,
         "77": 0,
         "78": 0,
         "79": 0,
         "80": 0,
         "81": 0,
         "82": 0,
         "83": 0,
         "84": 0,
         "85": 0,
         "86": 0,
         "87": 0,
         "88": 0,
         "89": 0,
         "90": 0,
         "91": 0,
         "92": 0,
         "93": 0,
         "94": 0,
         "95": 0,
         "96": 0,
         "97": 0,
         "98": 0,
         "99": 0,
         "100": 0,
         "101": 0,
         "102": 0,
         "103": 0,
         "104": 0,
         "105": 0,
         "106": 0,
         "107": 0,
         "108": 0,
         "109": 0,
         "110": 0,
         "111": 0,
         "112": 0,
         "113": 0,
         "114": 0,
         "115": 0,
         "116": 0,
         "117": 0,
         "118": 0,
         "119": 0,
         "120": 0,
         "121": 0,
         "122": 0,
         "123": 0,
         "124": 0,
         "125": 0,
         "126": 0,
         "127": 0,
         "128": 0,
         "129": 0,
         "130": 0,
         "131": 0,
         "132": 0,
         "133": 0,
         "134": 0,
         "135": 0,
         "136": 0,
         "137": 0,
         "138": 0,
         "139": 0,
         "140": 0,
         "141": 0,
         "142": 0,
         "143": 0,
         "144": 0,
         "145": 0,
         "146": 0,
         "147": 0,
         "148": 0,
         "149": 0,
         "150": 0,
         "151": 0,
         "152": 0,
         "153": 0,
         "154": 0,
         "155": 0,
         "156": 0,
         "157": 0,
         "158": 0,
         "159": 0,
         "160": 0,
         "161": 0,
         "162": 0,
         "163": 0,
         "164": 0,
         "165": 0,
         "166": 0,
         "167": 0,
         "168": 0,
         "169": 0,
         "170": 0,
         "171": 0,
         "172": 0,
         "173": 0,
         "174": 0,
         "175": 0,
         "176": 0,
         "177": 0,
         "178": 0,
         "179": 0,
         "180": 0,
         "181": 0,
         "182": 0,
         "183": 0,
         "184": 0,
         "185": 0,
         "186": 0,
         "187": 0,
         "188": 0,
         "189": 0,
         "190": 0,
         "191": 0,
         "192": 0,
         "193": 0,
         "194": 0,
         "195": 0,
         "196": 0,
         "197": 0,
         "198": 0,
         "199": 0,
         "200": 0,
         "201": 0,
         "202": 0,
         "203": 0,
         "204": 0,
         "205": 0,
         "206": 0,
         "207": 0,
         "208": 0,
         "209": 0,
         "210": 0,
         "211": 0,
         "212": 0,
         "213": 0,
         "214": 0,
         "215": 0,
         "216": 0,
         "217": 0,
         "218": 0,
         "219": 0,
         "220": 0,
         "221": 0,
         "222": 0,
         "223": 0,
         "224": 0,
         "225": 0,
         "226": 0,
         "227": 0,
         "228": 0,
         "229": 0,
         "230": 0,
         "231": 0,
         "232": 0,
         "233": 0,
         "234": 0,
         "235": 0,
         "236": 0,
         "237": 0,
         "238": 0,
         "239": 0,
         "240": 0,
         "241": 0,
         "242": 0,
         "243": 0,
         "244": 0,
         "245": 0,
         "246": 0,
         "247": 0,
         "248": 0,
         "249": 0,
         "250": 0,
         "251": 0,
         "252": 0,
         "253": 0,
         "254": 0,
         "255": 0,
         "256": 0,
         "257": 0,
         "258": 0,
         "259": 0,
         "260": 0,
         "261": 0,
         "262": 0,
         "263": 0,
         "264": 0,
         "265": 0,
         "266": 0,
         "267": 0,
         "268": 0,
         "269": 0,
         "270": 0,
         "271": 0,
         "272": 0,
         "273": 0,
         "274": 0,
         "275": 0,
         "276": 0,
         "277": 0,
         "278": 0,
         "279": 0,
         "280": 0,
         "281": 0,
         "282": 0,
         "283": 0,
         "284": 0,
         "285": 0,
         "286": 0,
         "287": 0,
         "288": 0,
         "289": 0,
         "290": 0,
         "291": 0,
         "292": 0,
         "293": 0,
         "294": 0,
         "295": 0,
         "296": 0,
         "297": 0,
         "298": 0,
         "299": 0,
         "300": 0,
         "301": 0,
         "302": 0,
         "303": 0,
         "304": 0,
         "305": 0,
         "306": 0,
         "307": 0,
         "308": 0,
         "309": 0,
         "310": 0,
         "311": 0,
         "312": 0,
         "313": 0,
         "314": 0,
         "315": 0,
         "316": 0,
         "317": 0,
         "318": 0,
         "319": 0,
         "320": 0,
         "321": 0,
         "322": 0,
         "323": 0,
         "324": 0,
         "325": 0,
         "326": 0,
         "327": 0,
         "328": 0,
         "329": 0,
         "330": 0,
         "331": 0,
         "332": 0,
         "333": 0,
         "334": 0,
         "335": 0,
         "336": 0,
         "337": 0,
         "338": 0,
         "339": 0,
         "340": 0,
         "341": 0,
         "342": 0,
         "343": 0,
         "344": 0,
         "345": 0,
         "346": 0,
         "347": 0,
         "348": 0,
         "349": 0,
         "350": 0,
         "351": 0,
         "352": 0,
         "353": 0,
         "354": 0,
         "355": 0,
         "356": 0,
         "357": 0,
         "358": 0,
         "359": 0,
         "360": 0,
         "361": 0,
         "362": 0,
         "363": 0,
         "364": 0,
         "365": 0,
         "366": 0,
         "367": 0,
         "368": 0,
         "369": 0,
         "370": 0,
         "371": 0,
         "372": 0,
         "373": 0,
         "374": 0,
         "375": 0,
         "376": 0,
         "377": 0,
         "378": 0,
         "379": 0,
         "380": 0,
         "381": 0,
         "382": 0,
         "383": 0,
         "384": 0,
         "385": 0,
         "386": 0,
         "387": 0,
         "388": 0,
         "389": 0,
         "390": 0,
         "391": 0,
         "392": 0,
         "393": 0,
         "394": 0,
         "395": 0,
         "396": 0,
         "397": 0,
         "398": 0,
         "399": 0,
         "400": 0,
         "401": 0,
         "402": 0,
         "403": 0,
         "404": 0,
         "405": 0,
         "406": 0,
         "407": 0,
         "408": 0,
         "409": 0,
         "410": 0,
         "411": 0,
         "412": 0,
         "413": 0,
         "414": 0,
         "415": 0,
         "416": 0,
         "417": 0,
         "418": 0,
         "419": 0,
         "420": 0,
         "421": 0,
         "422": 0,
         "423": 0,
         "424": 0,
         "425": 0,
         "426": 0,
         "427": 0,
         "428": 0,
         "429": 0,
         "430": 0,
         "431": 0,
         "432": 0,
         "433": 0,
         "434": 0,
         "435": 0,
         "436": 0,
         "437": 0,
         "438": 0,
         "439": 0,
         "440": 0,
         "441": 0,
         "442": 0,
         "443": 0,
         "444": 0,
         "445": 0,
         "446": 0,
         "447": 0,
         "448": 0,
         "449": 0,
         "450": 0,
         "451": 0,
         "452": 0,
         "453": 0,
         "454": 0,
         "455": 0,
         "456": 0,
         "457": 0,
         "458": 0,
         "459": 0,
         "460": 0,
         "461": 0,
         "462": 0,
         "463": 0,
         "464": 0,
         "465": 0,
         "466": 0,
         "467": 0,
         "468": 5.094507317741778,
         "469": 0,
         "470": 0,
         "471": 0,
         "472": 0,
         "class": 1,
         "absolute_message_index": 3301,
         "relative_message_index": 204,
         "years": 1910,
         "game_score": 9,
         "game_score_delta": 3,
         "game": 2,
         "speakers_austria": 0,
         "speakers_england": 0,
         "speakers_france": 0,
         "speakers_germany": 0,
         "speakers_italy": 0,
         "speakers_russia": 0,
         "speakers_turkey": 1,
         "receivers_austria": 0,
         "receivers_england": 0,
         "receivers_france": 0,
         "receivers_germany": 0,
         "receivers_italy": 1,
         "receivers_russia": 0,
         "receivers_turkey": 0,
         "seasons_Fall": 0,
         "seasons_Spring": 0,
         "seasons_Winter": 1,
         "receiver_labels_False": 0,
         "receiver_labels_NOANNOTATION": 1,
         "receiver_labels_True": 0,
         "_deepnote_index_column": 13131
        }
       ]
      },
      "text/plain": "       class  absolute_message_index  relative_message_index  years  \\\n0          1                     0.0                     0.0   1901   \n1          0                     0.0                     0.0   1901   \n2          1                     0.0                     0.0   1901   \n3          1                     0.0                     0.0   1901   \n4          1                     0.0                     0.0   1901   \n...      ...                     ...                     ...    ...   \n13127      1                  3297.0                   200.0   1910   \n13128      1                  3298.0                   201.0   1910   \n13129      1                  3299.0                   202.0   1910   \n13130      1                  3300.0                   203.0   1910   \n13131      1                  3301.0                   204.0   1910   \n\n       game_score  game_score_delta  game  speakers_austria  speakers_england  \\\n0               3                 0     1                 1                 0   \n1               3                 0    10                 0                 1   \n2               3                 0     5                 1                 0   \n3               3                 0     2                 1                 0   \n4               4                 1     3                 0                 0   \n...           ...               ...   ...               ...               ...   \n13127           7                 1     2                 0                 0   \n13128           6                -1     2                 0                 0   \n13129           6                -1     2                 0                 0   \n13130           6                -1     2                 0                 0   \n13131           9                 3     2                 0                 0   \n\n       speakers_france  ...  1990  1991  1992  1993  1994  1995  1996  1997  \\\n0                    0  ...   0.0   0.0   0.0   0.0   0.0   0.0   0.0   0.0   \n1                    0  ...   0.0   0.0   0.0   0.0   0.0   0.0   0.0   0.0   \n2                    0  ...   0.0   0.0   0.0   0.0   0.0   0.0   0.0   0.0   \n3                    0  ...   0.0   0.0   0.0   0.0   0.0   0.0   0.0   0.0   \n4                    0  ...   0.0   0.0   0.0   0.0   0.0   0.0   0.0   0.0   \n...                ...  ...   ...   ...   ...   ...   ...   ...   ...   ...   \n13127                0  ...   0.0   0.0   0.0   0.0   0.0   0.0   0.0   0.0   \n13128                0  ...   0.0   0.0   0.0   0.0   0.0   0.0   0.0   0.0   \n13129                0  ...   0.0   0.0   0.0   0.0   0.0   0.0   0.0   0.0   \n13130                0  ...   0.0   0.0   0.0   0.0   0.0   0.0   0.0   0.0   \n13131                0  ...   0.0   0.0   0.0   0.0   0.0   0.0   0.0   0.0   \n\n       1998  1999  \n0       0.0   0.0  \n1       0.0   0.0  \n2       0.0   0.0  \n3       0.0   0.0  \n4       0.0   0.0  \n...     ...   ...  \n13127   0.0   0.0  \n13128   0.0   0.0  \n13129   0.0   0.0  \n13130   0.0   0.0  \n13131   0.0   0.0  \n\n[13132 rows x 2027 columns]",
      "text/html": "<div>\n<style scoped>\n    .dataframe tbody tr th:only-of-type {\n        vertical-align: middle;\n    }\n\n    .dataframe tbody tr th {\n        vertical-align: top;\n    }\n\n    .dataframe thead th {\n        text-align: right;\n    }\n</style>\n<table border=\"1\" class=\"dataframe\">\n  <thead>\n    <tr style=\"text-align: right;\">\n      <th></th>\n      <th>class</th>\n      <th>absolute_message_index</th>\n      <th>relative_message_index</th>\n      <th>years</th>\n      <th>game_score</th>\n      <th>game_score_delta</th>\n      <th>game</th>\n      <th>speakers_austria</th>\n      <th>speakers_england</th>\n      <th>speakers_france</th>\n      <th>...</th>\n      <th>1990</th>\n      <th>1991</th>\n      <th>1992</th>\n      <th>1993</th>\n      <th>1994</th>\n      <th>1995</th>\n      <th>1996</th>\n      <th>1997</th>\n      <th>1998</th>\n      <th>1999</th>\n    </tr>\n  </thead>\n  <tbody>\n    <tr>\n      <th>0</th>\n      <td>1</td>\n      <td>0.0</td>\n      <td>0.0</td>\n      <td>1901</td>\n      <td>3</td>\n      <td>0</td>\n      <td>1</td>\n      <td>1</td>\n      <td>0</td>\n      <td>0</td>\n      <td>...</td>\n      <td>0.0</td>\n      <td>0.0</td>\n      <td>0.0</td>\n      <td>0.0</td>\n      <td>0.0</td>\n      <td>0.0</td>\n      <td>0.0</td>\n      <td>0.0</td>\n      <td>0.0</td>\n      <td>0.0</td>\n    </tr>\n    <tr>\n      <th>1</th>\n      <td>0</td>\n      <td>0.0</td>\n      <td>0.0</td>\n      <td>1901</td>\n      <td>3</td>\n      <td>0</td>\n      <td>10</td>\n      <td>0</td>\n      <td>1</td>\n      <td>0</td>\n      <td>...</td>\n      <td>0.0</td>\n      <td>0.0</td>\n      <td>0.0</td>\n      <td>0.0</td>\n      <td>0.0</td>\n      <td>0.0</td>\n      <td>0.0</td>\n      <td>0.0</td>\n      <td>0.0</td>\n      <td>0.0</td>\n    </tr>\n    <tr>\n      <th>2</th>\n      <td>1</td>\n      <td>0.0</td>\n      <td>0.0</td>\n      <td>1901</td>\n      <td>3</td>\n      <td>0</td>\n      <td>5</td>\n      <td>1</td>\n      <td>0</td>\n      <td>0</td>\n      <td>...</td>\n      <td>0.0</td>\n      <td>0.0</td>\n      <td>0.0</td>\n      <td>0.0</td>\n      <td>0.0</td>\n      <td>0.0</td>\n      <td>0.0</td>\n      <td>0.0</td>\n      <td>0.0</td>\n      <td>0.0</td>\n    </tr>\n    <tr>\n      <th>3</th>\n      <td>1</td>\n      <td>0.0</td>\n      <td>0.0</td>\n      <td>1901</td>\n      <td>3</td>\n      <td>0</td>\n      <td>2</td>\n      <td>1</td>\n      <td>0</td>\n      <td>0</td>\n      <td>...</td>\n      <td>0.0</td>\n      <td>0.0</td>\n      <td>0.0</td>\n      <td>0.0</td>\n      <td>0.0</td>\n      <td>0.0</td>\n      <td>0.0</td>\n      <td>0.0</td>\n      <td>0.0</td>\n      <td>0.0</td>\n    </tr>\n    <tr>\n      <th>4</th>\n      <td>1</td>\n      <td>0.0</td>\n      <td>0.0</td>\n      <td>1901</td>\n      <td>4</td>\n      <td>1</td>\n      <td>3</td>\n      <td>0</td>\n      <td>0</td>\n      <td>0</td>\n      <td>...</td>\n      <td>0.0</td>\n      <td>0.0</td>\n      <td>0.0</td>\n      <td>0.0</td>\n      <td>0.0</td>\n      <td>0.0</td>\n      <td>0.0</td>\n      <td>0.0</td>\n      <td>0.0</td>\n      <td>0.0</td>\n    </tr>\n    <tr>\n      <th>...</th>\n      <td>...</td>\n      <td>...</td>\n      <td>...</td>\n      <td>...</td>\n      <td>...</td>\n      <td>...</td>\n      <td>...</td>\n      <td>...</td>\n      <td>...</td>\n      <td>...</td>\n      <td>...</td>\n      <td>...</td>\n      <td>...</td>\n      <td>...</td>\n      <td>...</td>\n      <td>...</td>\n      <td>...</td>\n      <td>...</td>\n      <td>...</td>\n      <td>...</td>\n      <td>...</td>\n    </tr>\n    <tr>\n      <th>13127</th>\n      <td>1</td>\n      <td>3297.0</td>\n      <td>200.0</td>\n      <td>1910</td>\n      <td>7</td>\n      <td>1</td>\n      <td>2</td>\n      <td>0</td>\n      <td>0</td>\n      <td>0</td>\n      <td>...</td>\n      <td>0.0</td>\n      <td>0.0</td>\n      <td>0.0</td>\n      <td>0.0</td>\n      <td>0.0</td>\n      <td>0.0</td>\n      <td>0.0</td>\n      <td>0.0</td>\n      <td>0.0</td>\n      <td>0.0</td>\n    </tr>\n    <tr>\n      <th>13128</th>\n      <td>1</td>\n      <td>3298.0</td>\n      <td>201.0</td>\n      <td>1910</td>\n      <td>6</td>\n      <td>-1</td>\n      <td>2</td>\n      <td>0</td>\n      <td>0</td>\n      <td>0</td>\n      <td>...</td>\n      <td>0.0</td>\n      <td>0.0</td>\n      <td>0.0</td>\n      <td>0.0</td>\n      <td>0.0</td>\n      <td>0.0</td>\n      <td>0.0</td>\n      <td>0.0</td>\n      <td>0.0</td>\n      <td>0.0</td>\n    </tr>\n    <tr>\n      <th>13129</th>\n      <td>1</td>\n      <td>3299.0</td>\n      <td>202.0</td>\n      <td>1910</td>\n      <td>6</td>\n      <td>-1</td>\n      <td>2</td>\n      <td>0</td>\n      <td>0</td>\n      <td>0</td>\n      <td>...</td>\n      <td>0.0</td>\n      <td>0.0</td>\n      <td>0.0</td>\n      <td>0.0</td>\n      <td>0.0</td>\n      <td>0.0</td>\n      <td>0.0</td>\n      <td>0.0</td>\n      <td>0.0</td>\n      <td>0.0</td>\n    </tr>\n    <tr>\n      <th>13130</th>\n      <td>1</td>\n      <td>3300.0</td>\n      <td>203.0</td>\n      <td>1910</td>\n      <td>6</td>\n      <td>-1</td>\n      <td>2</td>\n      <td>0</td>\n      <td>0</td>\n      <td>0</td>\n      <td>...</td>\n      <td>0.0</td>\n      <td>0.0</td>\n      <td>0.0</td>\n      <td>0.0</td>\n      <td>0.0</td>\n      <td>0.0</td>\n      <td>0.0</td>\n      <td>0.0</td>\n      <td>0.0</td>\n      <td>0.0</td>\n    </tr>\n    <tr>\n      <th>13131</th>\n      <td>1</td>\n      <td>3301.0</td>\n      <td>204.0</td>\n      <td>1910</td>\n      <td>9</td>\n      <td>3</td>\n      <td>2</td>\n      <td>0</td>\n      <td>0</td>\n      <td>0</td>\n      <td>...</td>\n      <td>0.0</td>\n      <td>0.0</td>\n      <td>0.0</td>\n      <td>0.0</td>\n      <td>0.0</td>\n      <td>0.0</td>\n      <td>0.0</td>\n      <td>0.0</td>\n      <td>0.0</td>\n      <td>0.0</td>\n    </tr>\n  </tbody>\n</table>\n<p>13132 rows × 2027 columns</p>\n</div>"
     },
     "metadata": {}
    }
   ],
   "execution_count": 10
  },
  {
   "cell_type": "code",
   "source": "",
   "metadata": {
    "tags": [],
    "cell_id": "00005-e4392f3b-f936-460f-94d4-4cbece0c8ba7",
    "deepnote_cell_type": "code"
   },
   "outputs": [],
   "execution_count": null
  },
  {
   "cell_type": "markdown",
   "source": "<a style='text-decoration:none;line-height:16px;display:flex;color:#5B5B62;padding:10px;justify-content:end;' href='https://deepnote.com?utm_source=created-in-deepnote-cell&projectId=d30aab93-185d-4715-858f-78b8c83c5d5d' target=\"_blank\">\n<img alt='Created in deepnote.com' style='display:inline;max-height:16px;margin:0px;margin-right:7.5px;' src='data:image/svg+xml;base64,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' > </img>\nCreated in <span style='font-weight:600;margin-left:4px;'>Deepnote</span></a>",
   "metadata": {
    "tags": [],
    "created_in_deepnote_cell": true,
    "deepnote_cell_type": "markdown"
   }
  }
 ],
 "nbformat": 4,
 "nbformat_minor": 2,
 "metadata": {
  "orig_nbformat": 2,
  "deepnote": {
   "is_reactive": false
  },
  "deepnote_notebook_id": "eeaeeeaa-7907-4a18-8164-f78f340a5c89",
  "deepnote_execution_queue": []
 }
}